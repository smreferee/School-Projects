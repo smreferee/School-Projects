{
 "cells": [
  {
   "cell_type": "markdown",
   "metadata": {},
   "source": [
    "This is Assignment 07 - Richard Nolan"
   ]
  },
  {
   "cell_type": "markdown",
   "metadata": {},
   "source": [
    "Requirement 4"
   ]
  },
  {
   "cell_type": "code",
   "execution_count": 8,
   "metadata": {},
   "outputs": [
    {
     "data": {
      "text/plain": [
       "[1, 2, 4, 5, 7, 8, 10, 11, 14, 16, 19, 20, 22, 23, 25, 26, 28, 29]"
      ]
     },
     "execution_count": 8,
     "metadata": {},
     "output_type": "execute_result"
    }
   ],
   "source": [
    "##List Comprehension\n",
    "[k for k in range(30) if k % 3 > 0 if k != 13 if k != 17]"
   ]
  },
  {
   "cell_type": "markdown",
   "metadata": {},
   "source": [
    "Requirement 5"
   ]
  },
  {
   "cell_type": "code",
   "execution_count": 20,
   "metadata": {},
   "outputs": [
    {
     "name": "stdout",
     "output_type": "stream",
     "text": [
      "[1, 2, 4, 5, 7, 8, 10, 11, 14, 16, 19, 20, 22, 23, 25, 26, 28, 29]\n"
     ]
    }
   ],
   "source": [
    "##For Loop \n",
    "k = []\n",
    "for i in range(30):\n",
    "##Skip the numbers divisble by three\n",
    "    if i % 3 == 0:\n",
    "        continue\n",
    "##Skip 13\n",
    "    if i == 13:\n",
    "        continue\n",
    "##Skip 17\n",
    "    if i == 17:\n",
    "        continue\n",
    "##Append and Print\n",
    "    k.append(i)\n",
    "print(k)"
   ]
  },
  {
   "cell_type": "markdown",
   "metadata": {},
   "source": [
    "Requirement 6"
   ]
  },
  {
   "cell_type": "code",
   "execution_count": 26,
   "metadata": {},
   "outputs": [
    {
     "name": "stdout",
     "output_type": "stream",
     "text": [
      "Pretty printing has been turned OFF\n"
     ]
    },
    {
     "data": {
      "text/plain": [
       "[0, -1, 2, -3, 4, -5, 6, -7, 8, -9, 10, -11, 12, -13, 14, -15, 16, -17, 18, -19, 20, -21, 22, -23, 24, -25, 26, -27, 28, -29]"
      ]
     },
     "execution_count": 26,
     "metadata": {},
     "output_type": "execute_result"
    }
   ],
   "source": [
    "##turning off pretty printing\n",
    "%pprint\n",
    "##List comp with positive evens and negative odds\n",
    "[-k if k % 2 else k\n",
    "for k in range(30)]"
   ]
  },
  {
   "cell_type": "markdown",
   "metadata": {},
   "source": [
    "Requirement 7"
   ]
  },
  {
   "cell_type": "code",
   "execution_count": 27,
   "metadata": {},
   "outputs": [
    {
     "data": {
      "text/plain": [
       "{0, 1, 2, 3, 4}"
      ]
     },
     "execution_count": 27,
     "metadata": {},
     "output_type": "execute_result"
    }
   ],
   "source": [
    "##Set comprehension\n",
    "{k % 5 for k in range(1000)} "
   ]
  },
  {
   "cell_type": "markdown",
   "metadata": {},
   "source": [
    "Requirement 8"
   ]
  },
  {
   "cell_type": "code",
   "execution_count": 29,
   "metadata": {},
   "outputs": [
    {
     "data": {
      "text/plain": [
       "{0: 0, 1: 1, 2: 8, 3: 27, 4: 64, 5: 125, 6: 216, 7: 343, 8: 512, 9: 729, 10: 1000, 11: 1331, 12: 1728, 13: 2197, 14: 2744, 15: 3375, 16: 4096, 17: 4913, 18: 5832, 19: 6859}"
      ]
     },
     "execution_count": 29,
     "metadata": {},
     "output_type": "execute_result"
    }
   ],
   "source": [
    "##Dictionary comprehension\n",
    "{k:k ** 3 for k in range(20)} "
   ]
  },
  {
   "cell_type": "markdown",
   "metadata": {},
   "source": [
    "Requirement 9"
   ]
  },
  {
   "cell_type": "code",
   "execution_count": 34,
   "metadata": {},
   "outputs": [
    {
     "data": {
      "text/plain": [
       "[0, 2, 4, 6, 8, 10, 12, 14, 16, 18, 20, 22, 24, 26, 28, 30, 32, 34, 36, 38, 40, 42, 44, 46, 48]"
      ]
     },
     "execution_count": 34,
     "metadata": {},
     "output_type": "execute_result"
    }
   ],
   "source": [
    "##Generator Expression\n",
    "G = (k for k in range(50) if k % 2 == 0) \n",
    "list(G)"
   ]
  },
  {
   "cell_type": "markdown",
   "metadata": {},
   "source": [
    "Requirement 10"
   ]
  },
  {
   "cell_type": "code",
   "execution_count": 37,
   "metadata": {},
   "outputs": [
    {
     "name": "stdout",
     "output_type": "stream",
     "text": [
      "0.0 0.5 1.0 1.5 2.0 2.5 3.0 3.5 4.0 4.5 5.0 5.5 6.0 6.5 7.0\n",
      "0.0 0.5 1.0 1.5 2.0 2.5 3.0 3.5 4.0 4.5 5.0 5.5 6.0 6.5 7.0\n"
     ]
    }
   ],
   "source": [
    "##G1\n",
    "G1 = (n / 2 for n in range(15))\n",
    "\n",
    "##gen function\n",
    "def gen_divby2():\n",
    "    for n in range(15):\n",
    "        yield n / 2\n",
    "\n",
    "##G2\n",
    "G2 = gen_divby2()\n",
    "\n",
    "##print Gs\n",
    "print(*G1)\n",
    "print(*G2)"
   ]
  },
  {
   "cell_type": "markdown",
   "metadata": {},
   "source": [
    "Requirement 11"
   ]
  },
  {
   "cell_type": "code",
   "execution_count": 40,
   "metadata": {},
   "outputs": [
    {
     "name": "stdout",
     "output_type": "stream",
     "text": [
      "2 3 5 7 11 13 17 19 23 29 31 37 41 43 47 53 59 61 67 71 73 79 83 89 97\n"
     ]
    }
   ],
   "source": [
    "##Generator Function\n",
    "def prime_gen(R):\n",
    "    prime_num = set()\n",
    "##For Loop that isolates primes\n",
    "    for r in range(2, R):\n",
    "        if all(r % p > 0 for p in prime_num):\n",
    "            prime_num.add(r)\n",
    "            yield r\n",
    "            \n",
    "print(*prime_gen(100))"
   ]
  },
  {
   "cell_type": "markdown",
   "metadata": {},
   "source": [
    "Requirement 12"
   ]
  },
  {
   "cell_type": "code",
   "execution_count": 14,
   "metadata": {},
   "outputs": [
    {
     "name": "stdout",
     "output_type": "stream",
     "text": [
      "smref\n",
      "little\n",
      "101\n",
      "(2.4849066497880004+0j)\n",
      "count(0)\n",
      "<functools._lru_cache_wrapper object at 0x00000209C26B5820>\n",
      "7\n",
      "5\n",
      "{\"foo\": [\"bar\", \"baz\"]}\n",
      "None\n",
      "<function install_opener at 0x00000209C183C5E0>\n"
     ]
    }
   ],
   "source": [
    "##Importing Modules and examples\n",
    "\n",
    "import os\n",
    "print(os.getlogin())\n",
    "\n",
    "import sys\n",
    "print(sys.byteorder)\n",
    "\n",
    "import math\n",
    "print(math.ceil(100.2))\n",
    "\n",
    "import cmath\n",
    "print(cmath.log(12))\n",
    "\n",
    "import itertools\n",
    "print(itertools.count(start=0, step=1))\n",
    "       \n",
    "import functools\n",
    "def count_vowels(sentence):\n",
    "    sentence = sentence.casefold()\n",
    "    return sum(sentence.count(vowel) for vowel in 'aeiou')\n",
    "print(functools.lru_cache(count_vowels))\n",
    "\n",
    "import random\n",
    "print(random.randrange(1, 10, 2))\n",
    "\n",
    "import pickle\n",
    "print(pickle.HIGHEST_PROTOCOL)\n",
    "\n",
    "import json\n",
    "print(json.JSONEncoder().encode({\"foo\": [\"bar\", \"baz\"]}))\n",
    "\n",
    "import csv\n",
    "print(csv.register_dialect('yall'))\n",
    "\n",
    "import urllib\n",
    "print(urllib.request.install_opener)"
   ]
  },
  {
   "cell_type": "markdown",
   "metadata": {},
   "source": [
    "Requirement 13"
   ]
  },
  {
   "cell_type": "code",
   "execution_count": 26,
   "metadata": {},
   "outputs": [
    {
     "name": "stdout",
     "output_type": "stream",
     "text": [
      "  FIRE THE LAZER  \n",
      "  fire the lazer  \n",
      "  Fire The Lazer  \n",
      "fiRe the LaZer\n",
      "0000678\n",
      "7\n",
      "False\n",
      "False\n",
      "  fiRe Malaysia  \n",
      "['fiRe', 'the', 'LaZer']\n",
      "alpha**and**omega\n",
      "ding\n",
      "dong\n",
      "BING\n",
      "pi = 3.1415927\n"
     ]
    }
   ],
   "source": [
    "bob = '  fiRe the LaZer  '\n",
    "print(bob.upper())\n",
    "print(bob.lower())\n",
    "print(bob.title())\n",
    "print(bob.strip())\n",
    "\n",
    "mary = '0000678'\n",
    "print(mary.strip())\n",
    "print(bob.index('the'))\n",
    "print(bob.endswith('LaZer'))\n",
    "print(bob.startswith('LaZer'))\n",
    "print(bob.replace('the LaZer', 'Malaysia'))\n",
    "print(bob.split())\n",
    "print('**'.join(['alpha', 'and', 'omega']))\n",
    "print(\"\\n\".join(['ding','dong','BING']))\n",
    "\n",
    "pi = '3.14159265359'\n",
    "print(\"pi = {0:.7f}\".format(float(pi)))"
   ]
  },
  {
   "cell_type": "markdown",
   "metadata": {},
   "source": [
    "Requirement 14"
   ]
  },
  {
   "cell_type": "code",
   "execution_count": 28,
   "metadata": {},
   "outputs": [
    {
     "name": "stdout",
     "output_type": "stream",
     "text": [
      "['bob@yahoo.com', 'dave@gmail.com', 'rollerderby@hotmail.com']\n",
      "['perry@badmovies.edu', 'man@hotmail.uss', 'myers@gmail.com']\n"
     ]
    }
   ],
   "source": [
    "import re\n",
    "email = re.compile('\\w+@\\w+\\.[a-z]{3}')\n",
    "valid_test = (\"bob@yahoo.com, dave@gmail.com, rollerderby@hotmail.com\")\n",
    "invalid_test = (\"tyler.perry@badmovies.edu, roller.derby.man@hotmail.ussr, mike.myers@gmail.com\")\n",
    "\n",
    "print(email.findall(valid_test))\n",
    "print(email.findall(invalid_test))"
   ]
  },
  {
   "cell_type": "markdown",
   "metadata": {},
   "source": [
    "Requirement 15"
   ]
  },
  {
   "cell_type": "markdown",
   "metadata": {},
   "source": [
    "I actually enjoyed this assignment more than the last two. I'm getting more used to the formatting, and I had to stop and think on just how I was going to answer some of these questions. I look forward to puzzling through more challenges like this. Please excuse the lack of comments on the last two Requirements, I got a splitting migraine today and was barely able to finish the assignment."
   ]
  }
 ],
 "metadata": {
  "kernelspec": {
   "display_name": "Python 3",
   "language": "python",
   "name": "python3"
  },
  "language_info": {
   "codemirror_mode": {
    "name": "ipython",
    "version": 3
   },
   "file_extension": ".py",
   "mimetype": "text/x-python",
   "name": "python",
   "nbconvert_exporter": "python",
   "pygments_lexer": "ipython3",
   "version": "3.8.3"
  }
 },
 "nbformat": 4,
 "nbformat_minor": 4
}
