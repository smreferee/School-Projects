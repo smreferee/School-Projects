{
 "cells": [
  {
   "cell_type": "markdown",
   "metadata": {},
   "source": [
    "This is Assignment 10 - Richard Nolan"
   ]
  },
  {
   "cell_type": "markdown",
   "metadata": {},
   "source": [
    "Requirement 3"
   ]
  },
  {
   "cell_type": "code",
   "execution_count": 5,
   "metadata": {},
   "outputs": [
    {
     "name": "stdout",
     "output_type": "stream",
     "text": [
      "[8 5 1 5 1 8 3 8 8 4 7 2 7 7 7 3 4 4 3 3]\n",
      "[False False  True False  True False  True False False False False  True\n",
      " False False False  True False False  True  True]\n",
      "[ True  True False  True False  True False  True  True False  True False\n",
      "  True  True  True False False False False False]\n",
      "[False False  True False  True False  True False False  True False  True\n",
      " False False False  True  True  True  True  True]\n",
      "[ True  True False  True False  True False  True  True  True  True False\n",
      "  True  True  True False  True  True False False]\n",
      "[ True  True  True  True  True  True  True  True  True False  True  True\n",
      "  True  True  True  True False False  True  True]\n",
      "[False False False False False False False False False  True False False\n",
      " False False False False  True  True False False]\n"
     ]
    }
   ],
   "source": [
    "import numpy as np\n",
    "\n",
    "##Creation of 1D Array\n",
    "one_d_array = np.random.randint(10, size=20)\n",
    "\n",
    "##Various ufuncs\n",
    "print (one_d_array)\n",
    "print(one_d_array < 4)\n",
    "print(one_d_array > 4)\n",
    "print(one_d_array <= 4)\n",
    "print(one_d_array >= 4)\n",
    "print(one_d_array != 4)\n",
    "print(one_d_array == 4)"
   ]
  },
  {
   "cell_type": "markdown",
   "metadata": {},
   "source": [
    "Requirement 4"
   ]
  },
  {
   "cell_type": "code",
   "execution_count": 12,
   "metadata": {},
   "outputs": [
    {
     "name": "stdout",
     "output_type": "stream",
     "text": [
      "[[False False  True False  True]\n",
      " [False  True False False  True]\n",
      " [ True False  True  True False]\n",
      " [False False False  True False]]\n",
      "[[ True  True False  True False]\n",
      " [ True False  True  True False]\n",
      " [False  True False False  True]\n",
      " [ True  True  True False  True]]\n",
      "[[False False  True False  True]\n",
      " [False  True False False  True]\n",
      " [ True False  True  True False]\n",
      " [False False False  True False]]\n",
      "[[ True  True False  True False]\n",
      " [ True False  True  True False]\n",
      " [False  True False False  True]\n",
      " [ True  True  True False  True]]\n",
      "[[ True  True  True  True  True]\n",
      " [ True  True  True  True  True]\n",
      " [ True  True  True  True  True]\n",
      " [ True  True  True  True  True]]\n",
      "[[False False False False False]\n",
      " [False False False False False]\n",
      " [False False False False False]\n",
      " [False False False False False]]\n",
      "4\n",
      "12\n",
      "[4 3 2 5]\n",
      "True\n",
      "False\n",
      "[False False False  True  True]\n"
     ]
    }
   ],
   "source": [
    "##Creation of 2D Array\n",
    "two_d_array = np.random.randint(11, 34,  size= (4, 5))\n",
    "\n",
    "##Various ufuncs\n",
    "print (two_d_array < 20)\n",
    "print (two_d_array > 20)\n",
    "print (two_d_array <= 20)\n",
    "print (two_d_array >= 20)\n",
    "print (two_d_array != 20)\n",
    "print (two_d_array == 20)\n",
    "print(np.count_nonzero(two_d_array < 15))\n",
    "print(np.sum(two_d_array > 20))\n",
    "print(np.sum(two_d_array >= 19, axis = 1))\n",
    "print(np.any(two_d_array < 12))\n",
    "print(np.all(two_d_array > 12))\n",
    "print(np.all(two_d_array > 14, axis = 0))"
   ]
  },
  {
   "cell_type": "markdown",
   "metadata": {},
   "source": [
    "Requirement 5"
   ]
  },
  {
   "cell_type": "code",
   "execution_count": 19,
   "metadata": {},
   "outputs": [
    {
     "name": "stdout",
     "output_type": "stream",
     "text": [
      "83\n",
      "83\n"
     ]
    }
   ],
   "source": [
    "##Generating the inches array from the Chapter\n",
    "import pandas as pd\n",
    "\n",
    "rainfall = pd.read_csv('data/Seattle2014.csv')['PRCP'].values\n",
    "inches = rainfall / 254.0 \n",
    "inches.shape\n",
    "\n",
    "##Boolean Ops\n",
    "print(np.sum((inches >= 0.15) & (inches <= 1.15)))\n",
    "print(np.sum(~( (inches <= 0.15) | (inches >= 1.15) )))"
   ]
  },
  {
   "cell_type": "markdown",
   "metadata": {},
   "source": [
    "Requirement 6"
   ]
  },
  {
   "cell_type": "code",
   "execution_count": 20,
   "metadata": {},
   "outputs": [
    {
     "name": "stdout",
     "output_type": "stream",
     "text": [
      "Number of days without rain: 215\n",
      "Number of days with rain: 150\n",
      "Days with 1 inch or more of rain: 8\n"
     ]
    }
   ],
   "source": [
    "##More Boolean\n",
    "print(\"Number of days without rain:\", np.sum(inches == 0))\n",
    "print(\"Number of days with rain:\", np.sum(inches != 0))\n",
    "print(\"Days with 1 inch or more of rain:\", np.sum(inches >= 1))"
   ]
  },
  {
   "cell_type": "markdown",
   "metadata": {},
   "source": [
    "Requirement 7"
   ]
  },
  {
   "cell_type": "code",
   "execution_count": 21,
   "metadata": {},
   "outputs": [
    {
     "name": "stdout",
     "output_type": "stream",
     "text": [
      "[[False False  True False False]\n",
      " [False  True False False False]\n",
      " [ True False  True False False]\n",
      " [False False False False False]]\n",
      "None\n",
      "[11 13 14 11]\n",
      "None\n"
     ]
    }
   ],
   "source": [
    "##Boolean masking\n",
    "print(print (two_d_array < 15))\n",
    "print(print (two_d_array [two_d_array < 15]))\n"
   ]
  },
  {
   "cell_type": "markdown",
   "metadata": {},
   "source": [
    "Requirement 8"
   ]
  },
  {
   "cell_type": "code",
   "execution_count": 23,
   "metadata": {},
   "outputs": [
    {
     "name": "stdout",
     "output_type": "stream",
     "text": [
      "Median precip on pouring days in 2014 (inches): 0.7283464566929134\n",
      "Median precip on summer days in 2014 (inches): 0.0\n",
      "Max precip on summer days in 2014 (inches): 0.8503937007874016\n",
      "Median precip on non-summer rainy days (inches): 0.7204724409448819\n"
     ]
    }
   ],
   "source": [
    "##Definition of pouring and summer\n",
    "pouring = (inches > 0.5)\n",
    "days = np.arange(365)\n",
    "summer = (days > 172) & (days < 262)\n",
    "\n",
    "##Median Pouring \n",
    "print(\"Median precip on pouring days in 2014 (inches):\",np.median(inches[pouring]))\n",
    "\n",
    "##Median Summer\n",
    "print(\"Median precip on summer days in 2014 (inches):\", np.median(inches[summer]))\n",
    "\n",
    "##Max Summer\n",
    "print(\"Max precip on summer days in 2014 (inches):\", np.max(inches[summer]))\n",
    "\n",
    "##Median non-Summer Pouring\n",
    "print(\"Median precip on non-summer rainy days (inches):\", np.median(inches[pouring & ~summer]))\n"
   ]
  },
  {
   "cell_type": "markdown",
   "metadata": {},
   "source": [
    "Requirement 9"
   ]
  },
  {
   "cell_type": "markdown",
   "metadata": {},
   "source": [
    "The main difference between the keywords \"and\" and \"or\" have with the operators & and | is that the keywords evaluate the entirety of the object for truthfulness, whereas the operators evaluate bit by bit through the object for truth. Because of this, the operators are better for evaluating Boolean Numpy Arrays and should be used."
   ]
  },
  {
   "cell_type": "markdown",
   "metadata": {},
   "source": [
    "Requirement 10"
   ]
  },
  {
   "cell_type": "code",
   "execution_count": 32,
   "metadata": {},
   "outputs": [
    {
     "name": "stdout",
     "output_type": "stream",
     "text": [
      "[1 3 5]\n",
      "[25 31 30]\n"
     ]
    }
   ],
   "source": [
    "##Fancy Indexing\n",
    "ind = [2, 15, 3]\n",
    "print(one_d_array[ind])\n",
    "\n",
    "row = np.array([3, 1, 3])\n",
    "col = np.array([2, 2, 4])\n",
    "print(two_d_array[row, col])"
   ]
  },
  {
   "cell_type": "markdown",
   "metadata": {},
   "source": [
    "Requirement 11"
   ]
  },
  {
   "cell_type": "code",
   "execution_count": 37,
   "metadata": {},
   "outputs": [
    {
     "name": "stdout",
     "output_type": "stream",
     "text": [
      "[[31 18 18]\n",
      " [25 19 19]]\n",
      "[[23 25 30]\n",
      " [33 31 15]\n",
      " [23 25 30]]\n"
     ]
    }
   ],
   "source": [
    "##Combined Indexing\n",
    "print(two_d_array[2:, [1, 3, 3]])\n",
    "\n",
    "msk = np.array([3, 0, 1, 0, 2], dtype=bool)\n",
    "print(two_d_array[row[:, np.newaxis], msk])"
   ]
  },
  {
   "cell_type": "markdown",
   "metadata": {},
   "source": [
    "Requirement 12"
   ]
  },
  {
   "cell_type": "code",
   "execution_count": 38,
   "metadata": {},
   "outputs": [
    {
     "name": "stdout",
     "output_type": "stream",
     "text": [
      "[[11 19 25 26 27]\n",
      " [13 15 31 33 33]\n",
      " [11 14 18 22 31]\n",
      " [19 23 25 25 30]]\n",
      "[[14 13 11 18 15]\n",
      " [23 25 11 19 19]\n",
      " [27 26 25 25 22]\n",
      " [33 31 31 33 30]]\n",
      "[[14 13 11 18 15]\n",
      " [23 25 11 19 19]\n",
      " [27 26 25 25 22]\n",
      " [33 31 31 33 30]]\n"
     ]
    }
   ],
   "source": [
    "##Sorting\n",
    "print(np.sort(two_d_array, axis = 1))\n",
    "print(np.sort(two_d_array, axis = 0))\n",
    "print(np.partition(two_d_array, 3, axis = 0))"
   ]
  },
  {
   "cell_type": "markdown",
   "metadata": {},
   "source": [
    "Requirement 13"
   ]
  },
  {
   "cell_type": "code",
   "execution_count": 56,
   "metadata": {},
   "outputs": [
    {
     "data": {
      "image/png": "[encoded data removed]",
      "text/plain": [
       "<Figure size 432x288 with 1 Axes>"
      ]
     },
     "metadata": {},
     "output_type": "display_data"
    }
   ],
   "source": [
    "%matplotlib inline\n",
    "import matplotlib.pyplot as plt\n",
    "import seaborn; seaborn.set()\n",
    "\n",
    "##Creating the array\n",
    "rays = np.random.randint(10, size=(25, 2))\n",
    "K = 3\n",
    "\n",
    "##Squared distance and nearest definitions\n",
    "dist_sq = np.sum((rays[:, np.newaxis, :] - rays[np.newaxis, :, :]) ** 2, axis=-1)\n",
    "nearest = np.argsort(dist_sq, axis=1)\n",
    "nearest_partition = np.argpartition(dist_sq, K + 1, axis=1)\n",
    "\n",
    "##Neighbor Plot\n",
    "plt.scatter(rays[:, 0], rays[:, 1], s=100)\n",
    "for i in range(rays.shape[0]):\n",
    "    for j in nearest[i, :K+1]:\n",
    "        plt.plot(*zip(rays[j], rays[i]), color='red')\n"
   ]
  },
  {
   "cell_type": "markdown",
   "metadata": {},
   "source": [
    "Requirement 14"
   ]
  },
  {
   "cell_type": "code",
   "execution_count": 58,
   "metadata": {},
   "outputs": [
    {
     "name": "stdout",
     "output_type": "stream",
     "text": [
      "[('Antman', 42, 'Chicago', 'Size Chang') ('Batman', 35, 'Gotham', 'Money')\n",
      " ('Hellboy', 75, 'Orkney', 'Demonfist')]\n"
     ]
    }
   ],
   "source": [
    "##Structured Array\n",
    "name = ['Antman', 'Batman', 'Hellboy']\n",
    "age = [42, 35, 75]\n",
    "birthplace = ['Chicago', 'Gotham', 'Orkney']\n",
    "super_power = ['Size Change', 'Money', 'Demonfist']\n",
    "\n",
    "\n",
    "super_heroes = np.zeros(3, dtype={'names':('name', 'age', 'birthplace', 'super power'),\n",
    "                          'formats':('U10', 'i4', 'U10', 'U10')})\n",
    "\n",
    "super_heroes['name'] = name\n",
    "super_heroes['age'] = age\n",
    "super_heroes['birthplace'] = birthplace\n",
    "super_heroes['super power'] = super_power\n",
    "\n",
    "print(super_heroes)"
   ]
  },
  {
   "cell_type": "markdown",
   "metadata": {},
   "source": [
    "Requirement 15"
   ]
  },
  {
   "cell_type": "markdown",
   "metadata": {},
   "source": [
    "This assignment was a little tricky for me. The expanding use of arrays is definitely something I need to think over to really get, but it's coming for me. The textbook is a great resource for this, albeit a little terse at times. "
   ]
  },
  {
   "cell_type": "code",
   "execution_count": null,
   "metadata": {},
   "outputs": [],
   "source": []
  }
 ],
 "metadata": {
  "kernelspec": {
   "display_name": "Python 3",
   "language": "python",
   "name": "python3"
  },
  "language_info": {
   "codemirror_mode": {
    "name": "ipython",
    "version": 3
   },
   "file_extension": ".py",
   "mimetype": "text/x-python",
   "name": "python",
   "nbconvert_exporter": "python",
   "pygments_lexer": "ipython3",
   "version": "3.8.3"
  }
 },
 "nbformat": 4,
 "nbformat_minor": 4
}
