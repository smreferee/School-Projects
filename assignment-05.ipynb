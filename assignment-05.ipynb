{
 "cells": [
  {
   "cell_type": "markdown",
   "metadata": {},
   "source": [
    "##This is assignment 5- Richard Nolan\n",
    "    "
   ]
  },
  {
   "cell_type": "markdown",
   "metadata": {},
   "source": [
    "##Requirement 4"
   ]
  },
  {
   "cell_type": "code",
   "execution_count": 5,
   "metadata": {},
   "outputs": [
    {
     "name": "stdout",
     "output_type": "stream",
     "text": [
      "9\n",
      "4\n",
      "20\n",
      "2.5\n",
      "2\n",
      "16\n"
     ]
    }
   ],
   "source": [
    "x = 4+5\n",
    "print (x)\n",
    "\n",
    "y = 5-1\n",
    "print (y)\n",
    "\n",
    "z = 2*10\n",
    "print (z)\n",
    "\n",
    "a = 5/2\n",
    "print (a)\n",
    "\n",
    "b = 5//2\n",
    "print (b)\n",
    "\n",
    "c = 2**4\n",
    "print (c)"
   ]
  },
  {
   "cell_type": "markdown",
   "metadata": {},
   "source": [
    "Requirement 5"
   ]
  },
  {
   "cell_type": "code",
   "execution_count": 65,
   "metadata": {},
   "outputs": [
    {
     "name": "stdout",
     "output_type": "stream",
     "text": [
      "True\n",
      "True\n",
      "True\n",
      "True\n",
      "False\n",
      "True\n"
     ]
    }
   ],
   "source": [
    "Mon = 20\n",
    "print(Mon == (15+5))\n",
    "\n",
    "Tue = 24\n",
    "print(Tue != (15*2))\n",
    "\n",
    "Wed = 30\n",
    "print(Wed > (5*2))\n",
    "print(Wed < (120/2))\n",
    "\n",
    "Thur = 50\n",
    "print(Thur >= 60)\n",
    "print(Thur <= (25*2))\n"
   ]
  },
  {
   "cell_type": "markdown",
   "metadata": {},
   "source": [
    "Requirement 6"
   ]
  },
  {
   "cell_type": "code",
   "execution_count": 38,
   "metadata": {},
   "outputs": [
    {
     "name": "stdout",
     "output_type": "stream",
     "text": [
      "9\n",
      "4\n",
      "20\n",
      "2.5\n",
      "2\n",
      "16\n"
     ]
    }
   ],
   "source": [
    "import operators"
   ]
  },
  {
   "cell_type": "markdown",
   "metadata": {},
   "source": [
    "Requirement 7"
   ]
  },
  {
   "cell_type": "code",
   "execution_count": 73,
   "metadata": {},
   "outputs": [
    {
     "name": "stdout",
     "output_type": "stream",
     "text": [
      "list_even is: [4, 14, 48, 6, 212, 658]\n",
      "list_odd is: [7, 9, 11, 15, 25, 53, 115, 1, 3, 7, 99, 345, 999, 1111]\n"
     ]
    }
   ],
   "source": [
    "#Set Lists\n",
    "list_1 = [4, 7, 9, 11, 14, 15, 25, 48, 53, 115] \n",
    "list_2 = [1, 3, 6, 7, 99, 212, 345, 658, 999, 1111];\n",
    "\n",
    "#Append\n",
    "list_even = []\n",
    "list_odd = [];\n",
    "\n",
    "list_even.append(4) \n",
    "list_even.append(14)\n",
    "list_even.append(48)\n",
    "list_even.append(6)\n",
    "list_even.append(212)\n",
    "list_even.append(658);\n",
    "\n",
    "list_odd.append(7)\n",
    "list_odd.append(9)\n",
    "list_odd.append(11)\n",
    "list_odd.append(15)\n",
    "list_odd.append(25)\n",
    "list_odd.append(53)\n",
    "list_odd.append(115)\n",
    "list_odd.append(1)\n",
    "list_odd.append(3)\n",
    "list_odd.append(7)\n",
    "list_odd.append(99)\n",
    "list_odd.append(345)\n",
    "list_odd.append(999)\n",
    "list_odd.append(1111);\n",
    "\n",
    "#Print odd/even lists\n",
    "print ('list_even is:', (list_even))\n",
    "print ('list_odd is:', (list_odd))\n",
    "\n"
   ]
  },
  {
   "cell_type": "markdown",
   "metadata": {},
   "source": [
    "Requirement 8"
   ]
  },
  {
   "cell_type": "code",
   "execution_count": 45,
   "metadata": {},
   "outputs": [
    {
     "name": "stdout",
     "output_type": "stream",
     "text": [
      "True\n",
      "False\n",
      "False\n"
     ]
    }
   ],
   "source": [
    "print(4.0.is_integer());\n",
    "print(4.5.is_integer());\n",
    "print(5.233333.is_integer());\n"
   ]
  },
  {
   "cell_type": "markdown",
   "metadata": {},
   "source": [
    "Requirement 9"
   ]
  },
  {
   "cell_type": "code",
   "execution_count": 66,
   "metadata": {},
   "outputs": [
    {
     "name": "stdout",
     "output_type": "stream",
     "text": [
      "True\n",
      "True\n",
      "True\n",
      "True\n",
      "True\n",
      "True\n",
      "True\n"
     ]
    }
   ],
   "source": [
    "x = 50\n",
    "print((x > 20) and (x < 60));\n",
    "print((x > 15) or ( x< 40));\n",
    "print(not (x > 70));\n",
    "\n",
    "x = 'Potato'\n",
    "y = 'Mashies'\n",
    "z = x\n",
    "\n",
    "print(x is z);\n",
    "print(x is not y);\n",
    "\n",
    "print('a' in x);\n",
    "print('z' not in x)\n",
    "\n",
    "\n"
   ]
  },
  {
   "cell_type": "markdown",
   "metadata": {},
   "source": [
    "Requirement 10"
   ]
  },
  {
   "cell_type": "code",
   "execution_count": 61,
   "metadata": {},
   "outputs": [
    {
     "name": "stdout",
     "output_type": "stream",
     "text": [
      "17218479456385750618067377696052635483579924745448689921733236816400740691241745619397484537236046173286370919031961587788584927290816661024991609882728717344659503471655990880884679896520055123906467064419056526231345685268240569209892573766037966584735183775739433978714578587782701380797240772477647874555986712746271362892227516205318914435913511141036261376\n"
     ]
    }
   ],
   "source": [
    "print (4**600)"
   ]
  },
  {
   "cell_type": "markdown",
   "metadata": {},
   "source": [
    "Requirement 11"
   ]
  },
  {
   "cell_type": "code",
   "execution_count": 71,
   "metadata": {},
   "outputs": [
    {
     "name": "stdout",
     "output_type": "stream",
     "text": [
      "6\n",
      "POTATO\n",
      "Sit on a potato pan otis\n",
      "Are you? What? Hungry?\n",
      "Salt Tater Salt Tater Salt Tater Salt Tater \n",
      "t\n"
     ]
    }
   ],
   "source": [
    "x = 'potato'\n",
    "print(len(x));\n",
    "print(x.upper());\n",
    "print('sit on a potato pan otis'.capitalize());\n",
    "print('Are you? ' + 'What? ' + 'Hungry?');\n",
    "print('Salt Tater '*4);\n",
    "print(x[2])"
   ]
  },
  {
   "cell_type": "markdown",
   "metadata": {},
   "source": [
    "Requirement 12"
   ]
  },
  {
   "cell_type": "markdown",
   "metadata": {},
   "source": [
    "I definitely overthought some of the questions here, and my prior experience with Python led me to reach for some overly complicated responses that we haven't covered yet. While I was initially frustrated, I pondered over everything for a bit and realized I was doing too much. Scaling back my efforts to match the text resulted in more faithful (if a tad cumbersome) answers I believe."
   ]
  }
 ],
 "metadata": {
  "celltoolbar": "Attachments",
  "kernelspec": {
   "display_name": "Python 3",
   "language": "python",
   "name": "python3"
  },
  "language_info": {
   "codemirror_mode": {
    "name": "ipython",
    "version": 3
   },
   "file_extension": ".py",
   "mimetype": "text/x-python",
   "name": "python",
   "nbconvert_exporter": "python",
   "pygments_lexer": "ipython3",
   "version": "3.8.3"
  }
 },
 "nbformat": 4,
 "nbformat_minor": 4
}
