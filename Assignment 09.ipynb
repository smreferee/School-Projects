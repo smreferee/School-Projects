{
 "cells": [
  {
   "cell_type": "markdown",
   "metadata": {},
   "source": [
    "This is Assignment 09 - Richard Nolan"
   ]
  },
  {
   "cell_type": "markdown",
   "metadata": {},
   "source": [
    "Requirement 4"
   ]
  },
  {
   "cell_type": "markdown",
   "metadata": {},
   "source": [
    "The first way in which NumPy arrays differ from Python lists is that the NumPy arrays handle large amounts of data more efficiently in terms of storage and operations. Python lists, due to their flexibility, contain much more information per entry, and this information can often be redundant. The NumPy array, by contrast, contains a single pointer instead of the list's many. Additionally, the NumPy array must consist of a single variable type while the regular Python list can contain a variety of variable types."
   ]
  },
  {
   "cell_type": "markdown",
   "metadata": {},
   "source": [
    "Requirement 5"
   ]
  },
  {
   "cell_type": "markdown",
   "metadata": {},
   "source": [
    "C requires each variable to be explicitly declared (statically-typed), while Python dynamically interprets each variable as it is enountered (dynamically-typed). This allows for more flexibility in Python than with statically-typed languages, but it can also cause operations to be slower."
   ]
  },
  {
   "cell_type": "markdown",
   "metadata": {},
   "source": [
    "Requirement 6"
   ]
  },
  {
   "cell_type": "markdown",
   "metadata": {},
   "source": [
    "Integer storage in C and similar languages points to a single piece of stored information on the integer. Python has to have four pieces of stored information for the single integer; a reference count (ob_refcnt), the integer type (ob_type), the size of the data member (ob_size), and finally the actual integer value (ob_digit). The C integer is essentially a pointer to a position in memory whose bytes encode an integer value, while the Python integer is a pointer to all four pieces of stored information."
   ]
  },
  {
   "cell_type": "markdown",
   "metadata": {},
   "source": [
    "Requirement 7"
   ]
  },
  {
   "cell_type": "code",
   "execution_count": 7,
   "metadata": {},
   "outputs": [
    {
     "name": "stdout",
     "output_type": "stream",
     "text": [
      "['1', '2', '3', '4', '5', '6', '7', '8', '9', '10', '11', '12', '13', '14', '15', '16', '17', '18', '19', '20']\n"
     ]
    }
   ],
   "source": [
    "##L1 as list of integers\n",
    "L1 = list(range(1, 21))\n",
    "\n",
    "##Converted to list of strings\n",
    "L2 = [str(c) for c in L1]\n",
    "\n",
    "print(L2)"
   ]
  },
  {
   "cell_type": "markdown",
   "metadata": {},
   "source": [
    "Requirement 8"
   ]
  },
  {
   "cell_type": "code",
   "execution_count": 8,
   "metadata": {},
   "outputs": [
    {
     "data": {
      "text/plain": [
       "[int, float, str, bool, complex]"
      ]
     },
     "execution_count": 8,
     "metadata": {},
     "output_type": "execute_result"
    }
   ],
   "source": [
    "##Hetero List\n",
    "M = [1, 2.5, 'banana', True, 4j]\n",
    "\n",
    "[type(i) for i in M]"
   ]
  },
  {
   "cell_type": "markdown",
   "metadata": {},
   "source": [
    "Requirement 9"
   ]
  },
  {
   "cell_type": "code",
   "execution_count": 9,
   "metadata": {},
   "outputs": [
    {
     "data": {
      "text/plain": [
       "array('i', [0, 1, 2, 3, 4, 5, 6, 7, 8, 9, 10, 11, 12, 13, 14, 15, 16, 17, 18, 19])"
      ]
     },
     "execution_count": 9,
     "metadata": {},
     "output_type": "execute_result"
    }
   ],
   "source": [
    "import array\n",
    "\n",
    "##Creation of the array\n",
    "L = list(range(20))\n",
    "A = array.array('i', L)"
   ]
  },
  {
   "cell_type": "code",
   "execution_count": 10,
   "metadata": {},
   "outputs": [
    {
     "data": {
      "text/plain": [
       "array('i', [0, 1, 2, 3, 4, 5, 6, 7, 8, 9, 10, 11, 12, 13, 14, 15, 16, 17, 18, 19, 22])"
      ]
     },
     "execution_count": 10,
     "metadata": {},
     "output_type": "execute_result"
    }
   ],
   "source": [
    "##Array append\n",
    "A.append(22)\n",
    "A"
   ]
  },
  {
   "cell_type": "code",
   "execution_count": 11,
   "metadata": {},
   "outputs": [
    {
     "data": {
      "text/plain": [
       "array('i', [0, 1, 50, 2, 3, 4, 5, 6, 7, 8, 9, 10, 11, 12, 13, 14, 15, 16, 17, 18, 19, 22])"
      ]
     },
     "execution_count": 11,
     "metadata": {},
     "output_type": "execute_result"
    }
   ],
   "source": [
    "##Array insert\n",
    "A.insert(2, 50)\n",
    "A"
   ]
  },
  {
   "cell_type": "code",
   "execution_count": 12,
   "metadata": {},
   "outputs": [
    {
     "name": "stdout",
     "output_type": "stream",
     "text": [
      "15\n"
     ]
    }
   ],
   "source": [
    "##Array index\n",
    "print(A.index(14))"
   ]
  },
  {
   "cell_type": "code",
   "execution_count": 13,
   "metadata": {},
   "outputs": [
    {
     "ename": "TypeError",
     "evalue": "an integer is required (got type str)",
     "output_type": "error",
     "traceback": [
      "\u001b[1;31m---------------------------------------------------------------------------\u001b[0m",
      "\u001b[1;31mTypeError\u001b[0m                                 Traceback (most recent call last)",
      "\u001b[1;32m<ipython-input-13-b0c08af40be9>\u001b[0m in \u001b[0;36m<module>\u001b[1;34m\u001b[0m\n\u001b[0;32m      1\u001b[0m \u001b[1;31m##Array mismatched element\u001b[0m\u001b[1;33m\u001b[0m\u001b[1;33m\u001b[0m\u001b[1;33m\u001b[0m\u001b[0m\n\u001b[0;32m      2\u001b[0m \u001b[1;31m##this returns an error message\u001b[0m\u001b[1;33m\u001b[0m\u001b[1;33m\u001b[0m\u001b[1;33m\u001b[0m\u001b[0m\n\u001b[1;32m----> 3\u001b[1;33m \u001b[0mA\u001b[0m\u001b[1;33m.\u001b[0m\u001b[0mappend\u001b[0m\u001b[1;33m(\u001b[0m\u001b[1;34m'potato'\u001b[0m\u001b[1;33m)\u001b[0m\u001b[1;33m\u001b[0m\u001b[1;33m\u001b[0m\u001b[0m\n\u001b[0m",
      "\u001b[1;31mTypeError\u001b[0m: an integer is required (got type str)"
     ]
    }
   ],
   "source": [
    "##Array mismatched element\n",
    "##this returns an error message\n",
    "A.append('potato')"
   ]
  },
  {
   "cell_type": "markdown",
   "metadata": {},
   "source": [
    "Requirement 10"
   ]
  },
  {
   "cell_type": "code",
   "execution_count": 29,
   "metadata": {},
   "outputs": [
    {
     "name": "stdout",
     "output_type": "stream",
     "text": [
      "[ 1.   2.4  3.   4.   5.   6.   7.   8.   9.  10. ]\n",
      "[ 1.   2.4  3.   4.   5.   6.   7.   8.   9.  10.  11. ]\n"
     ]
    }
   ],
   "source": [
    "import numpy as np\n",
    "\n",
    "##Explicit Casting\n",
    "##Data type set to float32\n",
    "one_d_array = np.array([1., 2.4, 3., 4., 5., 6., 7., 8., 9., 10.], dtype='float32')\n",
    "print(one_d_array)\n",
    "\n",
    "##Implicit Casting\n",
    "##The 11 is converted to a float like the rest of the array\n",
    "one_d_array = np.array([1., 2.4, 3., 4., 5., 6., 7., 8., 9., 10., 11])\n",
    "print(one_d_array)"
   ]
  },
  {
   "cell_type": "markdown",
   "metadata": {},
   "source": [
    "Requirement 11"
   ]
  },
  {
   "cell_type": "code",
   "execution_count": 31,
   "metadata": {},
   "outputs": [
    {
     "name": "stdout",
     "output_type": "stream",
     "text": [
      "[[1 2 3]\n",
      " [2 3 4]\n",
      " [3 4 5]\n",
      " [4 5 6]\n",
      " [5 6 7]]\n"
     ]
    }
   ],
   "source": [
    "##List comprehension 3x5 Array\n",
    "two_d_array = np.array([range(i, i + 3) for i in [1, 2, 3, 4, 5]])\n",
    "print(two_d_array)"
   ]
  },
  {
   "cell_type": "markdown",
   "metadata": {},
   "source": [
    "Requirement 12"
   ]
  },
  {
   "cell_type": "code",
   "execution_count": 34,
   "metadata": {},
   "outputs": [
    {
     "name": "stdout",
     "output_type": "stream",
     "text": [
      "v size is: 75\n"
     ]
    }
   ],
   "source": [
    "##Seed for reproducibility\n",
    "np.random.seed(0)\n",
    "\n",
    "##3D Array with random numbers\n",
    "v = np.random.randint(99, size=(3, 5, 5))\n",
    "\n",
    "##Print size of array\n",
    "print('v size is:', v.size)"
   ]
  },
  {
   "cell_type": "markdown",
   "metadata": {},
   "source": [
    "Requirement 13"
   ]
  },
  {
   "cell_type": "code",
   "execution_count": 38,
   "metadata": {},
   "outputs": [
    {
     "name": "stdout",
     "output_type": "stream",
     "text": [
      "65\n",
      "32\n",
      "11\n",
      "79\n"
     ]
    }
   ],
   "source": [
    "##Accessing 4 different elements\n",
    "print(v[0, 3, 0])\n",
    "print(v[1, 3, 0])\n",
    "print(v[2, 4, 0])\n",
    "print(v[2, 2, 0])"
   ]
  },
  {
   "cell_type": "markdown",
   "metadata": {},
   "source": [
    "Requirement 14"
   ]
  },
  {
   "cell_type": "code",
   "execution_count": 40,
   "metadata": {},
   "outputs": [
    {
     "name": "stdout",
     "output_type": "stream",
     "text": [
      "13\n",
      "14\n",
      "17\n",
      "80\n"
     ]
    }
   ],
   "source": [
    "##Modifying 4 different elements\n",
    "v[0, 3, 0] = 13\n",
    "v[1, 3, 0] = 14\n",
    "v[2, 4, 0] = 17\n",
    "v[2, 2, 0] = 80\n",
    "\n",
    "##Proof of modification\n",
    "print(v[0, 3, 0])\n",
    "print(v[1, 3, 0])\n",
    "print(v[2, 4, 0])\n",
    "print(v[2, 2, 0])"
   ]
  },
  {
   "cell_type": "markdown",
   "metadata": {},
   "source": [
    "Requirement 15"
   ]
  },
  {
   "cell_type": "code",
   "execution_count": 43,
   "metadata": {},
   "outputs": [
    {
     "name": "stdout",
     "output_type": "stream",
     "text": [
      "[1.  2.4 3.  4.  5.  6.  7. ]\n",
      "[ 8.  9. 10. 11.]\n",
      "[4. 5. 6. 7. 8.]\n",
      "[ 1.  3.  5.  7.  9. 11.]\n",
      "[11.  10.   9.   8.   7.   6.   5.   4.   3.   2.4  1. ]\n",
      "[8.  6.  4.  2.4]\n"
     ]
    }
   ],
   "source": [
    "##Every element to the 7th\n",
    "print(one_d_array[:7])\n",
    "\n",
    "##Every element after the 7th\n",
    "print(one_d_array[7:])\n",
    "\n",
    "##Elements 3 to 8\n",
    "print(one_d_array[3:8])\n",
    "\n",
    "##Every other element\n",
    "print(one_d_array[::2])\n",
    "\n",
    "##Reversed Order\n",
    "print(one_d_array[::-1])\n",
    "\n",
    "##Reversed order from element 7, every other element\n",
    "print(one_d_array[7::-2])"
   ]
  },
  {
   "cell_type": "markdown",
   "metadata": {},
   "source": [
    "Requirement 16"
   ]
  },
  {
   "cell_type": "code",
   "execution_count": 46,
   "metadata": {},
   "outputs": [
    {
     "name": "stdout",
     "output_type": "stream",
     "text": [
      "[[1 2]\n",
      " [2 3]]\n",
      "[[1 3]\n",
      " [2 4]\n",
      " [3 5]\n",
      " [4 6]\n",
      " [5 7]]\n",
      "[[1 2 3]\n",
      " [3 4 5]\n",
      " [5 6 7]]\n",
      "[[1 2]\n",
      " [2 3]]\n"
     ]
    }
   ],
   "source": [
    "##First two columns and first two rows\n",
    "print(two_d_array[:2, :2])\n",
    "\n",
    "##All rows and every other column\n",
    "print(two_d_array[:5, ::2])\n",
    "\n",
    "##All columns and every other row\n",
    "print(two_d_array[::2, :3])\n",
    "\n",
    "##Extracted subarray\n",
    "D2array = two_d_array[:2, :2]\n",
    "print(D2array)"
   ]
  },
  {
   "cell_type": "markdown",
   "metadata": {},
   "source": [
    "Requirement 17"
   ]
  },
  {
   "cell_type": "code",
   "execution_count": 48,
   "metadata": {},
   "outputs": [
    {
     "name": "stdout",
     "output_type": "stream",
     "text": [
      "[[  1   2   3   4   5   6   7   8   9  10]\n",
      " [ 11  12  13  14  15  16  17  18  19  20]\n",
      " [ 21  22  23  24  25  26  27  28  29  30]\n",
      " [ 31  32  33  34  35  36  37  38  39  40]\n",
      " [ 41  42  43  44  45  46  47  48  49  50]\n",
      " [ 51  52  53  54  55  56  57  58  59  60]\n",
      " [ 61  62  63  64  65  66  67  68  69  70]\n",
      " [ 71  72  73  74  75  76  77  78  79  80]\n",
      " [ 81  82  83  84  85  86  87  88  89  90]\n",
      " [ 91  92  93  94  95  96  97  98  99 100]]\n"
     ]
    }
   ],
   "source": [
    "##Arrange and Reshape methods for a 10x10 array\n",
    "tenner = np.arange(1,101).reshape((10, 10))\n",
    "print(tenner)"
   ]
  },
  {
   "cell_type": "markdown",
   "metadata": {},
   "source": [
    "Requirement 18"
   ]
  },
  {
   "cell_type": "code",
   "execution_count": 50,
   "metadata": {},
   "outputs": [
    {
     "name": "stdout",
     "output_type": "stream",
     "text": [
      "[[ 1.   2.4  3.   4.   5.   6.   7.   8.   9.  10.  11. ]]\n",
      "[[ 1. ]\n",
      " [ 2.4]\n",
      " [ 3. ]\n",
      " [ 4. ]\n",
      " [ 5. ]\n",
      " [ 6. ]\n",
      " [ 7. ]\n",
      " [ 8. ]\n",
      " [ 9. ]\n",
      " [10. ]\n",
      " [11. ]]\n"
     ]
    }
   ],
   "source": [
    "##Row Vector\n",
    "print(one_d_array[np.newaxis, :])\n",
    "\n",
    "##Column vector\n",
    "print(one_d_array[:, np.newaxis])"
   ]
  },
  {
   "cell_type": "markdown",
   "metadata": {},
   "source": [
    "Requirement 19"
   ]
  },
  {
   "cell_type": "markdown",
   "metadata": {},
   "source": [
    "NumPy Universal Functions, or ufuncs, allows computation on NumPy arrays to proceed much faster. They do this by creating a vectorized operation that moves the loop into the underlying compiled layer of NumPy that results in a much faster execution. They are almost always more efficient that normal Python arrays, especially when the arrays grow in size."
   ]
  },
  {
   "cell_type": "markdown",
   "metadata": {},
   "source": [
    "Requirement 20"
   ]
  },
  {
   "cell_type": "code",
   "execution_count": 51,
   "metadata": {},
   "outputs": [
    {
     "name": "stdout",
     "output_type": "stream",
     "text": [
      "[ 0. 12. 24. 36. 48. 60.]\n"
     ]
    }
   ],
   "source": [
    "##Out Argument\n",
    "l = np.arange(6)\n",
    "n = np.empty(6)\n",
    "np.multiply(l, 12, out=n)\n",
    "print(n)"
   ]
  },
  {
   "cell_type": "markdown",
   "metadata": {},
   "source": [
    "Requirement 21"
   ]
  },
  {
   "cell_type": "code",
   "execution_count": 52,
   "metadata": {},
   "outputs": [
    {
     "data": {
      "text/plain": [
       "66.4"
      ]
     },
     "execution_count": 52,
     "metadata": {},
     "output_type": "execute_result"
    }
   ],
   "source": [
    "##Sum of an Aggregate\n",
    "np.add.reduce(one_d_array)"
   ]
  },
  {
   "cell_type": "markdown",
   "metadata": {},
   "source": [
    "Requirement 22"
   ]
  },
  {
   "cell_type": "code",
   "execution_count": 54,
   "metadata": {},
   "outputs": [
    {
     "name": "stdout",
     "output_type": "stream",
     "text": [
      "[[ 2  2  2  2  2]\n",
      " [ 4  4  4  4  4]\n",
      " [ 6  6  6  6  6]\n",
      " [ 8  8  8  8  8]\n",
      " [10 10 10 10 10]]\n"
     ]
    }
   ],
   "source": [
    "##Creation of the arrays\n",
    "x = np.array([1, 2, 3, 4, 5])\n",
    "\n",
    "y = np.array([2, 2, 2, 2, 2])\n",
    "\n",
    "##Multiply and outer for desired output\n",
    "print(np.multiply.outer(x, y))"
   ]
  },
  {
   "cell_type": "markdown",
   "metadata": {},
   "source": [
    "Requirement 23"
   ]
  },
  {
   "cell_type": "code",
   "execution_count": 58,
   "metadata": {},
   "outputs": [
    {
     "name": "stdout",
     "output_type": "stream",
     "text": [
      "3.12 µs ± 127 ns per loop (mean ± std. dev. of 7 runs, 100000 loops each)\n",
      "2.54 µs ± 31.2 ns per loop (mean ± std. dev. of 7 runs, 100000 loops each)\n",
      "3.25 µs ± 19.9 ns per loop (mean ± std. dev. of 7 runs, 100000 loops each)\n",
      "1.6 µs ± 22 ns per loop (mean ± std. dev. of 7 runs, 1000000 loops each)\n",
      "3.24 µs ± 47.8 ns per loop (mean ± std. dev. of 7 runs, 100000 loops each)\n",
      "1.64 µs ± 42.1 ns per loop (mean ± std. dev. of 7 runs, 1000000 loops each)\n"
     ]
    }
   ],
   "source": [
    "##Sum function with timing\n",
    "%timeit (np.sum(one_d_array))\n",
    "%timeit (sum(one_d_array))\n",
    "\n",
    "##Max function with timing\n",
    "%timeit (np.max(one_d_array))\n",
    "%timeit (max(one_d_array))\n",
    "\n",
    "##Min function with timing\n",
    "%timeit (np.min(one_d_array))\n",
    "%timeit (min(one_d_array))"
   ]
  },
  {
   "cell_type": "markdown",
   "metadata": {},
   "source": [
    "Requirement 24"
   ]
  },
  {
   "cell_type": "code",
   "execution_count": 59,
   "metadata": {},
   "outputs": [
    {
     "data": {
      "image/png": "[encoded data removed]",
      "text/plain": [
       "<Figure size 432x288 with 1 Axes>"
      ]
     },
     "metadata": {},
     "output_type": "display_data"
    }
   ],
   "source": [
    "##Import panda to access file\n",
    "import pandas as pd\n",
    "data = pd.read_csv('data/president_heights.csv')\n",
    "heights = np.array(data['height(cm)'])\n",
    "\n",
    "##Import matplotlib to set up the plot style\n",
    "%matplotlib inline\n",
    "import matplotlib.pyplot as plt\n",
    "import seaborn; seaborn.set() \n",
    "\n",
    "##Create Histogram\n",
    "plt.hist(heights)\n",
    "plt.title('Height Distribution of US Presidents')\n",
    "plt.xlabel('height (cm)')\n",
    "plt.ylabel('number');"
   ]
  },
  {
   "cell_type": "markdown",
   "metadata": {},
   "source": [
    "Requirement 25"
   ]
  },
  {
   "cell_type": "code",
   "execution_count": 60,
   "metadata": {},
   "outputs": [
    {
     "data": {
      "image/png": "[encoded data removed]",
      "text/plain": [
       "<Figure size 432x288 with 2 Axes>"
      ]
     },
     "metadata": {
      "needs_background": "light"
     },
     "output_type": "display_data"
    }
   ],
   "source": [
    "##Importing matplotlib \n",
    "%matplotlib inline\n",
    "import matplotlib.pyplot as plt\n",
    "\n",
    "##Creating the plot\n",
    "plt.imshow(two_d_array, origin='lower', extent=[0, 5, 0, 5],\n",
    "           cmap='viridis')\n",
    "plt.colorbar();"
   ]
  },
  {
   "cell_type": "markdown",
   "metadata": {},
   "source": [
    "Requirement 26"
   ]
  },
  {
   "cell_type": "markdown",
   "metadata": {},
   "source": [
    "This assignment was a fair amount of fun for me! I haven't had as much experience with arrays before, but I know they're a very integral part of data science. I didn't have nearly as many issues as last week."
   ]
  }
 ],
 "metadata": {
  "kernelspec": {
   "display_name": "Python 3",
   "language": "python",
   "name": "python3"
  },
  "language_info": {
   "codemirror_mode": {
    "name": "ipython",
    "version": 3
   },
   "file_extension": ".py",
   "mimetype": "text/x-python",
   "name": "python",
   "nbconvert_exporter": "python",
   "pygments_lexer": "ipython3",
   "version": "3.8.3"
  }
 },
 "nbformat": 4,
 "nbformat_minor": 4
}
