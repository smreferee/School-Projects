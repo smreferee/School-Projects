{
 "cells": [
  {
   "cell_type": "markdown",
   "metadata": {},
   "source": [
    "This is Assignment 11 - Richard Nolan"
   ]
  },
  {
   "cell_type": "markdown",
   "metadata": {},
   "source": [
    "Requirement 3"
   ]
  },
  {
   "cell_type": "markdown",
   "metadata": {},
   "source": [
    "The main difference between Pandas and NumPy seems to be that NumPy provides a rigid, efficient framework for dealing with arrays, but Pandas provides more useful tools for \"data munging\" like the ability to label data and to work around missing data in a fashion that NumPy can't. Pandas is an expansion on NumPy, so they do share similar cores, but Pandas does notably include Data Frames as well, a tool that incorporates data labels and other features into a multidimensional array."
   ]
  },
  {
   "cell_type": "markdown",
   "metadata": {},
   "source": [
    "Requirement 4"
   ]
  },
  {
   "cell_type": "code",
   "execution_count": 86,
   "metadata": {},
   "outputs": [
    {
     "name": "stdout",
     "output_type": "stream",
     "text": [
      "1     Washington\n",
      "5        Lincoln\n",
      "10      Hamilton\n",
      "20       Jackson\n",
      "dtype: object\n"
     ]
    }
   ],
   "source": [
    "##Module Import\n",
    "import numpy as np\n",
    "import pandas as pd\n",
    "\n",
    "##Panda Series\n",
    "bill_names = pd.Series(['Washington', 'Lincoln', 'Hamilton', 'Jackson'],\n",
    "                 index=['1', '5', '10', '20'])\n",
    "\n",
    "print(bill_names)"
   ]
  },
  {
   "cell_type": "markdown",
   "metadata": {},
   "source": [
    "Requirement 5"
   ]
  },
  {
   "cell_type": "code",
   "execution_count": 87,
   "metadata": {},
   "outputs": [
    {
     "name": "stdout",
     "output_type": "stream",
     "text": [
      "Cheap, yet filling\n",
      "Earl Grey       Soothing late night cuppa\n",
      "White Claw    Ain't no laws with this one\n",
      "dtype: object\n"
     ]
    }
   ],
   "source": [
    "##Series as Dictionary\n",
    "beverages_dict = {'Dasani': 'A public scam',\n",
    "                   'Mtn Dew': 'Delicious, yet teeth-rotting',\n",
    "                   'Bud Heavy': 'Cheap, yet filling',\n",
    "                   'Earl Grey': 'Soothing late night cuppa',\n",
    "                   'White Claw': \"Ain't no laws with this one\"}\n",
    "beverages = pd.Series(beverages_dict)\n",
    "\n",
    "##Slicing for One and Many\n",
    "print(beverages['Bud Heavy'])\n",
    "print(beverages['Earl Grey':'White Claw'])"
   ]
  },
  {
   "cell_type": "markdown",
   "metadata": {},
   "source": [
    "Requirement 6"
   ]
  },
  {
   "cell_type": "code",
   "execution_count": 88,
   "metadata": {},
   "outputs": [
    {
     "name": "stdout",
     "output_type": "stream",
     "text": [
      "Chongquing     15872000\n",
      "Shanghai       27058000\n",
      "Tokyo          13929280\n",
      "Moscow         12506468\n",
      "Mexico City     8918653\n",
      "London          9304000\n",
      "New York        8336817\n",
      "dtype: int64\n"
     ]
    }
   ],
   "source": [
    "##City Proper population dict\n",
    "population_dict = {'Chongquing': 15872000,\n",
    "                   'Shanghai': 27058000,\n",
    "                   'Tokyo': 13929280,\n",
    "                   'Moscow': 12506468,\n",
    "                   'Mexico City': 8918653,\n",
    "                   'London': 9304000,\n",
    "                   'New York': 8336817}\n",
    "population = pd.Series(population_dict)\n",
    "\n",
    "print(population)"
   ]
  },
  {
   "cell_type": "markdown",
   "metadata": {},
   "source": [
    "Requirement 7"
   ]
  },
  {
   "cell_type": "code",
   "execution_count": 89,
   "metadata": {},
   "outputs": [
    {
     "name": "stdout",
     "output_type": "stream",
     "text": [
      "Chongquing             China\n",
      "Shanghai               China\n",
      "Tokyo                  Japan\n",
      "Moscow                Russia\n",
      "Mexico City           Mexico\n",
      "London         Great Britain\n",
      "New York       United States\n",
      "dtype: object\n"
     ]
    }
   ],
   "source": [
    "##City Proper population dict\n",
    "city_country_dict = {'Chongquing': 'China',\n",
    "                   'Shanghai': 'China',\n",
    "                   'Tokyo': 'Japan',\n",
    "                   'Moscow': 'Russia',\n",
    "                   'Mexico City': 'Mexico',\n",
    "                   'London': 'Great Britain',\n",
    "                   'New York': 'United States'}\n",
    "city_country = pd.Series(city_country_dict)\n",
    "\n",
    "print(country)"
   ]
  },
  {
   "cell_type": "markdown",
   "metadata": {},
   "source": [
    "Requirement 8"
   ]
  },
  {
   "cell_type": "code",
   "execution_count": 90,
   "metadata": {},
   "outputs": [
    {
     "name": "stdout",
     "output_type": "stream",
     "text": [
      "Index(['Chongquing', 'Shanghai', 'Tokyo', 'Moscow', 'Mexico City', 'London',\n",
      "       'New York'],\n",
      "      dtype='object')\n",
      "Index(['population', 'Country'], dtype='object')\n",
      "Index(['population', 'Country'], dtype='object')\n"
     ]
    }
   ],
   "source": [
    "##DataFrame\n",
    "city_dataframe = pd.DataFrame({'population': population,\n",
    "                       'Country': city_country})\n",
    "\n",
    "##.index property\n",
    "print(city_dataframe.index)\n",
    "\n",
    "##.columns property\n",
    "print(city_dataframe.columns)\n",
    "\n",
    "##.keys() method\n",
    "print(city_dataframe.keys())"
   ]
  },
  {
   "cell_type": "markdown",
   "metadata": {},
   "source": [
    "Requirement 9"
   ]
  },
  {
   "cell_type": "code",
   "execution_count": 91,
   "metadata": {},
   "outputs": [
    {
     "name": "stdout",
     "output_type": "stream",
     "text": [
      "Alpha    4\n",
      "Beta     5\n",
      "Gamma    7\n",
      "Delta    8\n",
      "dtype: int64\n",
      "Alpha    4\n",
      "Beta     5\n",
      "Gamma    7\n",
      "dtype: int64\n",
      "Beta    5\n",
      "dtype: int64\n",
      "Beta    5\n",
      "dtype: int64\n",
      "Beta     5\n",
      "Delta    8\n",
      "dtype: int64\n",
      "5\n",
      "5\n"
     ]
    }
   ],
   "source": [
    "##Series Object\n",
    "my_pd_series = pd.Series([4, 5, 6, 8],\n",
    "                 index=['Alpha', 'Beta', 'Gamma', 'Delta'])\n",
    "\n",
    "##Modifying a value\n",
    "my_pd_series['Gamma'] = 7\n",
    "print(my_pd_series)\n",
    "\n",
    "##Slicing by Explicit Index\n",
    "print(my_pd_series['Alpha':'Gamma'])\n",
    "\n",
    "##Slicing by implicit index\n",
    "print(my_pd_series[1:2])\n",
    "\n",
    "##Masking\n",
    "print(my_pd_series[(my_pd_series > 4) & (my_pd_series < 7)])\n",
    "\n",
    "##Fancy indexing\n",
    "print(my_pd_series[['Beta','Delta']])\n",
    "\n",
    "##loc[]\n",
    "print(my_pd_series.loc['Beta'])\n",
    "\n",
    "##iloc[]\n",
    "print(my_pd_series.iloc[1])\n",
    "\n"
   ]
  },
  {
   "cell_type": "markdown",
   "metadata": {},
   "source": [
    "Requirement 10"
   ]
  },
  {
   "cell_type": "code",
   "execution_count": 92,
   "metadata": {},
   "outputs": [
    {
     "name": "stdout",
     "output_type": "stream",
     "text": [
      "Chongquing     15872000\n",
      "Shanghai       27058000\n",
      "Tokyo          13929280\n",
      "Moscow         12506468\n",
      "Mexico City     8918653\n",
      "London          9304000\n",
      "New York        8336817\n",
      "Name: population, dtype: int64\n",
      "Chongquing             China\n",
      "Shanghai               China\n",
      "Tokyo                  Japan\n",
      "Moscow                Russia\n",
      "Mexico City           Mexico\n",
      "London         Great Britain\n",
      "New York       United States\n",
      "Name: Country, dtype: object\n",
      "             altitude  population        Country\n",
      "Chongquing        801    15872000          China\n",
      "Shanghai           13    27058000          China\n",
      "Tokyo             131    13929280          Japan\n",
      "Moscow           2579    12506468         Russia\n",
      "Mexico City      7382     8918653         Mexico\n",
      "London             36     9304000  Great Britain\n",
      "New York           33     8336817  United States\n"
     ]
    }
   ],
   "source": [
    "##Access Column via indxing\n",
    "print(city_dataframe['population'])\n",
    "\n",
    "##Access via column names\n",
    "print(city_dataframe.Country)\n",
    "\n",
    "##New Column\n",
    "altitude_dict = {'Chongquing': 801,\n",
    "                   'Shanghai': 13,\n",
    "                   'Tokyo': 131,\n",
    "                   'Moscow': 2579,\n",
    "                   'Mexico City': 7382,\n",
    "                   'London': 36,\n",
    "                   'New York': 33}\n",
    "altitude = pd.Series(altitude_dict)\n",
    "\n",
    "city_dataframe.insert(0, 'altitude', altitude)\n",
    "\n",
    "print(city_dataframe)"
   ]
  },
  {
   "cell_type": "markdown",
   "metadata": {},
   "source": [
    "Requirement 11"
   ]
  },
  {
   "cell_type": "code",
   "execution_count": 93,
   "metadata": {},
   "outputs": [
    {
     "name": "stdout",
     "output_type": "stream",
     "text": [
      "2     NaN\n",
      "3    10.0\n",
      "4    15.0\n",
      "5     NaN\n",
      "dtype: float64\n"
     ]
    },
    {
     "data": {
      "text/plain": [
       "2     3.0\n",
       "3    10.0\n",
       "4    15.0\n",
       "5     9.0\n",
       "dtype: float64"
      ]
     },
     "execution_count": 93,
     "metadata": {},
     "output_type": "execute_result"
    }
   ],
   "source": [
    "##Series + to make NaN\n",
    "bob = pd.Series([3, 6, 8], index=[2, 3, 4])\n",
    "tom = pd.Series([4, 7, 9], index=[3, 4, 5])\n",
    "print(bob + tom)\n",
    "\n",
    "##.add method\n",
    "bob.add(tom, fill_value=0)\n"
   ]
  },
  {
   "cell_type": "markdown",
   "metadata": {},
   "source": [
    "Requirement 12"
   ]
  },
  {
   "cell_type": "code",
   "execution_count": 94,
   "metadata": {},
   "outputs": [
    {
     "name": "stdout",
     "output_type": "stream",
     "text": [
      "      D     E   F\n",
      "0  42.0  40.0 NaN\n",
      "1  16.0  16.0 NaN\n",
      "2   NaN   NaN NaN\n"
     ]
    },
    {
     "data": {
      "text/html": [
       "<div>\n",
       "<style scoped>\n",
       "    .dataframe tbody tr th:only-of-type {\n",
       "        vertical-align: middle;\n",
       "    }\n",
       "\n",
       "    .dataframe tbody tr th {\n",
       "        vertical-align: top;\n",
       "    }\n",
       "\n",
       "    .dataframe thead th {\n",
       "        text-align: right;\n",
       "    }\n",
       "</style>\n",
       "<table border=\"1\" class=\"dataframe\">\n",
       "  <thead>\n",
       "    <tr style=\"text-align: right;\">\n",
       "      <th></th>\n",
       "      <th>D</th>\n",
       "      <th>E</th>\n",
       "      <th>F</th>\n",
       "    </tr>\n",
       "  </thead>\n",
       "  <tbody>\n",
       "    <tr>\n",
       "      <th>0</th>\n",
       "      <td>42.00</td>\n",
       "      <td>40.00</td>\n",
       "      <td>27.75</td>\n",
       "    </tr>\n",
       "    <tr>\n",
       "      <th>1</th>\n",
       "      <td>16.00</td>\n",
       "      <td>16.00</td>\n",
       "      <td>27.75</td>\n",
       "    </tr>\n",
       "    <tr>\n",
       "      <th>2</th>\n",
       "      <td>31.75</td>\n",
       "      <td>31.75</td>\n",
       "      <td>28.75</td>\n",
       "    </tr>\n",
       "  </tbody>\n",
       "</table>\n",
       "</div>"
      ],
      "text/plain": [
       "       D      E      F\n",
       "0  42.00  40.00  27.75\n",
       "1  16.00  16.00  27.75\n",
       "2  31.75  31.75  28.75"
      ]
     },
     "execution_count": 94,
     "metadata": {},
     "output_type": "execute_result"
    }
   ],
   "source": [
    "##Dataframes\n",
    "rng = np.random.RandomState(42)\n",
    "mike = pd.DataFrame(rng.randint(0, 40, (2, 2)),\n",
    "                 columns=list('DE'))\n",
    "\n",
    "marl = pd.DataFrame(rng.randint(0, 15, (3, 3)),\n",
    "                 columns=list('EDF'))\n",
    "\n",
    "print(mike + marl)\n",
    "\n",
    "##.add method\n",
    "fill = mike.stack().mean()\n",
    "mike.add(marl, fill_value = fill)"
   ]
  },
  {
   "cell_type": "markdown",
   "metadata": {},
   "source": [
    "Requirement 13"
   ]
  },
  {
   "cell_type": "code",
   "execution_count": 95,
   "metadata": {},
   "outputs": [
    {
     "name": "stdout",
     "output_type": "stream",
     "text": [
      "[[ 0  0  0  0]\n",
      " [-3  0 -1 -1]\n",
      " [ 0 -3  1 -3]\n",
      " [ 0  0 -2 -4]]\n"
     ]
    }
   ],
   "source": [
    "##2d Array\n",
    "A = rng.randint(5, 10, size=(4, 4))\n",
    "\n",
    "##Subtraction\n",
    "print(A-A[0])"
   ]
  },
  {
   "cell_type": "markdown",
   "metadata": {},
   "source": [
    "Requirement 14"
   ]
  },
  {
   "cell_type": "code",
   "execution_count": 96,
   "metadata": {},
   "outputs": [
    {
     "name": "stdout",
     "output_type": "stream",
     "text": [
      "   Q  R  S  T\n",
      "0  3  0  1  1\n",
      "1  0  0  0  0\n",
      "2  3 -3  2 -2\n",
      "3  3  0 -1 -3\n"
     ]
    }
   ],
   "source": [
    "##Dataframe\n",
    "df = pd.DataFrame(A, columns=list('QRST'))\n",
    "\n",
    "##Subtraction\n",
    "print(df - df.iloc[1])"
   ]
  },
  {
   "cell_type": "markdown",
   "metadata": {},
   "source": [
    "Requirement 15"
   ]
  },
  {
   "cell_type": "markdown",
   "metadata": {},
   "source": [
    "The two sentinel values used by Pandas are NaN and None. NaN, an acronym for 'Not a Number,' is used to represent missing numerical data, while None is used to represent a missing object in an array of objects. None can't cross between values, while Nan will 'infect' other values and override them with a NaN."
   ]
  },
  {
   "cell_type": "markdown",
   "metadata": {},
   "source": [
    "Requirement 16"
   ]
  },
  {
   "cell_type": "code",
   "execution_count": 97,
   "metadata": {},
   "outputs": [
    {
     "name": "stdout",
     "output_type": "stream",
     "text": [
      "Example time type = object\n",
      "50.7 ms ± 349 µs per loop (mean ± std. dev. of 7 runs, 10 loops each)\n",
      "\n",
      "Example time type = int\n",
      "2.15 ms ± 20.3 µs per loop (mean ± std. dev. of 7 runs, 100 loops each)\n",
      "\n"
     ]
    }
   ],
   "source": [
    "##Timing objects and integers\n",
    "for dtype in ['object', 'int']:\n",
    "    print(\"Example time type =\", dtype)\n",
    "    %timeit np.arange(1E6, dtype=dtype).sum()\n",
    "    print()"
   ]
  },
  {
   "cell_type": "markdown",
   "metadata": {},
   "source": [
    "Requirement 17"
   ]
  },
  {
   "cell_type": "code",
   "execution_count": 98,
   "metadata": {},
   "outputs": [
    {
     "data": {
      "text/plain": [
       "0    False\n",
       "1     True\n",
       "2    False\n",
       "3     True\n",
       "dtype: bool"
      ]
     },
     "execution_count": 98,
     "metadata": {},
     "output_type": "execute_result"
    }
   ],
   "source": [
    "##.isnull test\n",
    "ramp = pd.Series([3, np.nan, 'potato', None])\n",
    "\n",
    "ramp.isnull()"
   ]
  },
  {
   "cell_type": "markdown",
   "metadata": {},
   "source": [
    "Requirement 18"
   ]
  },
  {
   "cell_type": "code",
   "execution_count": 99,
   "metadata": {},
   "outputs": [
    {
     "name": "stdout",
     "output_type": "stream",
     "text": [
      "     0    1  2\n",
      "1  4.0  3.0  2\n",
      "   2\n",
      "0  3\n",
      "1  2\n",
      "2  7\n",
      "     0    1  2\n",
      "0  5.0  NaN  3\n",
      "1  4.0  3.0  2\n",
      "2  NaN  4.0  7\n",
      "     0    1  2\n",
      "0  5.0  NaN  3\n",
      "1  4.0  3.0  2\n",
      "2  NaN  4.0  7\n",
      "     0    1  2\n",
      "0  5.0  0.0  3\n",
      "1  4.0  3.0  2\n",
      "2  0.0  4.0  7\n",
      "     0    1  2\n",
      "0  5.0  NaN  3\n",
      "1  4.0  3.0  2\n",
      "2  4.0  4.0  7\n",
      "     0    1  2\n",
      "0  5.0  3.0  3\n",
      "1  4.0  3.0  2\n",
      "2  NaN  4.0  7\n"
     ]
    }
   ],
   "source": [
    "##Dataframe\n",
    "french_fry = pd.DataFrame([[5,      np.nan, 3],\n",
    "                           [4,      3,      2],\n",
    "                           [np.nan, 4,      7]])\n",
    "\n",
    "##Demonstrations\n",
    "print(french_fry.dropna())\n",
    "print(french_fry.dropna(axis = 1))\n",
    "print(french_fry.dropna(how = 'all'))\n",
    "print(french_fry.dropna(axis = 1, how = 'all'))\n",
    "print(french_fry.fillna(0))\n",
    "print(french_fry.fillna(method='ffill'))\n",
    "print(french_fry.fillna(method='bfill'))\n",
    "\n"
   ]
  },
  {
   "cell_type": "markdown",
   "metadata": {},
   "source": [
    "Requirement 19"
   ]
  },
  {
   "cell_type": "code",
   "execution_count": 100,
   "metadata": {},
   "outputs": [
    {
     "name": "stdout",
     "output_type": "stream",
     "text": [
      "MultiIndex([('California', 2000),\n",
      "            ('California', 2010),\n",
      "            (  'New York', 2000),\n",
      "            (  'New York', 2010),\n",
      "            (     'Texas', 2000),\n",
      "            (     'Texas', 2010)],\n",
      "           )\n",
      "California  2000    33871648\n",
      "            2010    37253956\n",
      "New York    2000    18976457\n",
      "            2010    19378102\n",
      "Texas       2000    20851820\n",
      "            2010    25145561\n",
      "dtype: int64\n",
      "                2000      2010\n",
      "California  33871648  37253956\n",
      "New York    18976457  19378102\n",
      "Texas       20851820  25145561\n",
      "California  2000    33871648\n",
      "            2010    37253956\n",
      "New York    2000    18976457\n",
      "            2010    19378102\n",
      "Texas       2000    20851820\n",
      "            2010    25145561\n",
      "dtype: int64\n",
      "California    33871648\n",
      "New York      18976457\n",
      "Texas         20851820\n",
      "dtype: int64\n",
      "California  2000    33871648\n",
      "            2010    37253956\n",
      "Texas       2010    25145561\n",
      "dtype: int64\n"
     ]
    }
   ],
   "source": [
    "##Setup\n",
    "index = [('California', 2000), ('California', 2010),\n",
    "         ('New York', 2000), ('New York', 2010),\n",
    "         ('Texas', 2000), ('Texas', 2010)]\n",
    "populations = [33871648, 37253956,\n",
    "               18976457, 19378102,\n",
    "               20851820, 25145561]\n",
    "pop = pd.Series(populations, index=index)\n",
    "\n",
    "##From_Tuples\n",
    "index = pd.MultiIndex.from_tuples(index)\n",
    "print(index)\n",
    "\n",
    "##.reindex\n",
    "pop = pop.reindex(index)\n",
    "print(pop)\n",
    "\n",
    "##.unstack\n",
    "pop_df = pop.unstack()\n",
    "print(pop_df)\n",
    "\n",
    "##.stack\n",
    "print(pop_df.stack())\n",
    "\n",
    "##indexing and slicing\n",
    "print(pop[:, 2000])\n",
    "print(pop[pop > 22000000])"
   ]
  },
  {
   "cell_type": "markdown",
   "metadata": {},
   "source": [
    "Requirement 20"
   ]
  },
  {
   "cell_type": "code",
   "execution_count": 101,
   "metadata": {},
   "outputs": [
    {
     "data": {
      "text/plain": [
       "Kawasaki       Ninja\n",
       "Honda           Fury\n",
       "HD          Softtail\n",
       "Honda          Civic\n",
       "Toyota       Corolla\n",
       "Ford          Ranger\n",
       "dtype: object"
      ]
     },
     "execution_count": 101,
     "metadata": {},
     "output_type": "execute_result"
    }
   ],
   "source": [
    "##Series\n",
    "motorcycle = pd.Series(['Ninja', 'Fury', 'Softtail'], index=['Kawasaki', 'Honda', 'HD'])\n",
    "automobile = pd.Series(['Civic', 'Corolla', 'Ranger'], index=['Honda', 'Toyota', 'Ford'])\n",
    "\n",
    "##Concat\n",
    "pd.concat([motorcycle, automobile])"
   ]
  },
  {
   "cell_type": "markdown",
   "metadata": {},
   "source": [
    "Requirement 21"
   ]
  },
  {
   "cell_type": "code",
   "execution_count": 102,
   "metadata": {},
   "outputs": [
    {
     "data": {
      "text/html": [
       "<div>\n",
       "<style scoped>\n",
       "    .dataframe tbody tr th:only-of-type {\n",
       "        vertical-align: middle;\n",
       "    }\n",
       "\n",
       "    .dataframe tbody tr th {\n",
       "        vertical-align: top;\n",
       "    }\n",
       "\n",
       "    .dataframe thead th {\n",
       "        text-align: right;\n",
       "    }\n",
       "</style>\n",
       "<table border=\"1\" class=\"dataframe\">\n",
       "  <thead>\n",
       "    <tr style=\"text-align: right;\">\n",
       "      <th></th>\n",
       "      <th>Q</th>\n",
       "      <th>R</th>\n",
       "      <th>S</th>\n",
       "      <th>T</th>\n",
       "      <th>0</th>\n",
       "      <th>1</th>\n",
       "      <th>2</th>\n",
       "    </tr>\n",
       "  </thead>\n",
       "  <tbody>\n",
       "    <tr>\n",
       "      <th>0</th>\n",
       "      <td>9.0</td>\n",
       "      <td>8.0</td>\n",
       "      <td>7.0</td>\n",
       "      <td>9.0</td>\n",
       "      <td>NaN</td>\n",
       "      <td>NaN</td>\n",
       "      <td>NaN</td>\n",
       "    </tr>\n",
       "    <tr>\n",
       "      <th>1</th>\n",
       "      <td>6.0</td>\n",
       "      <td>8.0</td>\n",
       "      <td>6.0</td>\n",
       "      <td>8.0</td>\n",
       "      <td>NaN</td>\n",
       "      <td>NaN</td>\n",
       "      <td>NaN</td>\n",
       "    </tr>\n",
       "    <tr>\n",
       "      <th>2</th>\n",
       "      <td>9.0</td>\n",
       "      <td>5.0</td>\n",
       "      <td>8.0</td>\n",
       "      <td>6.0</td>\n",
       "      <td>NaN</td>\n",
       "      <td>NaN</td>\n",
       "      <td>NaN</td>\n",
       "    </tr>\n",
       "    <tr>\n",
       "      <th>3</th>\n",
       "      <td>9.0</td>\n",
       "      <td>8.0</td>\n",
       "      <td>5.0</td>\n",
       "      <td>5.0</td>\n",
       "      <td>NaN</td>\n",
       "      <td>NaN</td>\n",
       "      <td>NaN</td>\n",
       "    </tr>\n",
       "    <tr>\n",
       "      <th>0</th>\n",
       "      <td>NaN</td>\n",
       "      <td>NaN</td>\n",
       "      <td>NaN</td>\n",
       "      <td>NaN</td>\n",
       "      <td>5.0</td>\n",
       "      <td>NaN</td>\n",
       "      <td>3.0</td>\n",
       "    </tr>\n",
       "    <tr>\n",
       "      <th>1</th>\n",
       "      <td>NaN</td>\n",
       "      <td>NaN</td>\n",
       "      <td>NaN</td>\n",
       "      <td>NaN</td>\n",
       "      <td>4.0</td>\n",
       "      <td>3.0</td>\n",
       "      <td>2.0</td>\n",
       "    </tr>\n",
       "    <tr>\n",
       "      <th>2</th>\n",
       "      <td>NaN</td>\n",
       "      <td>NaN</td>\n",
       "      <td>NaN</td>\n",
       "      <td>NaN</td>\n",
       "      <td>NaN</td>\n",
       "      <td>4.0</td>\n",
       "      <td>7.0</td>\n",
       "    </tr>\n",
       "  </tbody>\n",
       "</table>\n",
       "</div>"
      ],
      "text/plain": [
       "     Q    R    S    T    0    1    2\n",
       "0  9.0  8.0  7.0  9.0  NaN  NaN  NaN\n",
       "1  6.0  8.0  6.0  8.0  NaN  NaN  NaN\n",
       "2  9.0  5.0  8.0  6.0  NaN  NaN  NaN\n",
       "3  9.0  8.0  5.0  5.0  NaN  NaN  NaN\n",
       "0  NaN  NaN  NaN  NaN  5.0  NaN  3.0\n",
       "1  NaN  NaN  NaN  NaN  4.0  3.0  2.0\n",
       "2  NaN  NaN  NaN  NaN  NaN  4.0  7.0"
      ]
     },
     "execution_count": 102,
     "metadata": {},
     "output_type": "execute_result"
    }
   ],
   "source": [
    "##.append method\n",
    "df.append(french_fry)"
   ]
  },
  {
   "cell_type": "markdown",
   "metadata": {},
   "source": [
    "Requirement 22"
   ]
  },
  {
   "cell_type": "code",
   "execution_count": 103,
   "metadata": {},
   "outputs": [
    {
     "name": "stdout",
     "output_type": "stream",
     "text": [
      "  employee    group  hire_date\n",
      "0     Dick   Austin       2008\n",
      "1     Luke   Dallas       2012\n",
      "2     Lisa  Houston       2004\n",
      "3      Sue     Waco       2014\n",
      "  employee    group  hire_date supervisor\n",
      "0     Dick   Austin       2008      Carly\n",
      "1     Luke   Dallas       2012      Guido\n",
      "2     Lisa  Houston       2004      Steve\n",
      "  employee   group        skills\n",
      "0     Dick  Austin          math\n",
      "1     Dick  Austin  spreadsheets\n",
      "2     Luke  Dallas        coding\n",
      "3     Luke  Dallas         linux\n",
      "4      Sue    Waco  spreadsheets\n",
      "5      Sue    Waco  organization\n"
     ]
    }
   ],
   "source": [
    "##Dataframes\n",
    "HR1 = pd.DataFrame({'employee': ['Dick', 'Luke', 'Lisa', 'Sue'],\n",
    "                    'group': ['Austin', 'Dallas', 'Houston', 'Waco']})\n",
    "HR2 = pd.DataFrame({'employee': ['Lisa', 'Dick', 'Luke', 'Sue'],\n",
    "                    'hire_date': [2004, 2008, 2012, 2014]})\n",
    "\n",
    "##One to One\n",
    "HR3 = pd.merge(HR1, HR2)\n",
    "print(HR3)\n",
    "\n",
    "##Many to One\n",
    "HR4 = pd.DataFrame({'group': ['Austin', 'Dallas', 'Houston'],\n",
    "                    'supervisor': ['Carly', 'Guido', 'Steve']})\n",
    "\n",
    "print(pd.merge(HR3, HR4))\n",
    "\n",
    "##Many to Many\n",
    "HR5 = pd.DataFrame({'group': ['Austin', 'Austin',\n",
    "                              'Dallas', 'Dallas', 'Waco', 'Waco'],\n",
    "                    'skills': ['math', 'spreadsheets', 'coding', 'linux',\n",
    "                               'spreadsheets', 'organization']})\n",
    "\n",
    "print(pd.merge(HR1, HR5))"
   ]
  },
  {
   "cell_type": "markdown",
   "metadata": {},
   "source": [
    "Requirement 23"
   ]
  },
  {
   "cell_type": "code",
   "execution_count": 104,
   "metadata": {},
   "outputs": [
    {
     "name": "stdout",
     "output_type": "stream",
     "text": [
      "  employee    group  hire_date\n",
      "0     Dick   Austin       2008\n",
      "1     Luke   Dallas       2012\n",
      "2     Lisa  Houston       2004\n",
      "3      Sue     Waco       2014\n",
      "  employee    group  salary\n",
      "0     Dick   Austin   70000\n",
      "1     Luke   Dallas   80000\n",
      "2     Lisa  Houston  120000\n",
      "3      Sue     Waco   90000\n",
      "            group  hire_date\n",
      "employee                    \n",
      "Dick       Austin       2008\n",
      "Luke       Dallas       2012\n",
      "Lisa      Houston       2004\n",
      "Sue          Waco       2014\n"
     ]
    }
   ],
   "source": [
    "##Merge On\n",
    "print(pd.merge(HR1, HR2, on ='employee'))\n",
    "\n",
    "##Merge Left/Right On\n",
    "HR6 = pd.DataFrame({'name': ['Dick', 'Luke', 'Lisa', 'Sue'],\n",
    "                    'salary': [70000, 80000, 120000, 90000]})\n",
    "\n",
    "print(pd.merge(HR1, HR6, left_on=\"employee\", right_on=\"name\").drop('name', axis=1))\n",
    "\n",
    "##Merge L/R index\n",
    "HR1a = HR1.set_index('employee')\n",
    "HR2a = HR2.set_index('employee')\n",
    "\n",
    "print(pd.merge(HR1a, HR2a, left_index=True, right_index=True))"
   ]
  },
  {
   "cell_type": "markdown",
   "metadata": {},
   "source": [
    "Requirement 24"
   ]
  },
  {
   "cell_type": "markdown",
   "metadata": {},
   "source": [
    "I felt like the addition of Pandas really streamlined the use of Numpy for me, and working through the various uses of Series and Dataframes made a lot of sense for me. In many ways, it seemed like just a tweaking of the Numpy procedures. I'm really curious how we'll be using this moving forward."
   ]
  }
 ],
 "metadata": {
  "kernelspec": {
   "display_name": "Python 3",
   "language": "python",
   "name": "python3"
  },
  "language_info": {
   "codemirror_mode": {
    "name": "ipython",
    "version": 3
   },
   "file_extension": ".py",
   "mimetype": "text/x-python",
   "name": "python",
   "nbconvert_exporter": "python",
   "pygments_lexer": "ipython3",
   "version": "3.8.3"
  }
 },
 "nbformat": 4,
 "nbformat_minor": 4
}
