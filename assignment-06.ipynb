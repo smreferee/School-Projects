{
 "cells": [
  {
   "cell_type": "markdown",
   "metadata": {},
   "source": [
    "This is Assignment 06 - Richard Nolan"
   ]
  },
  {
   "cell_type": "markdown",
   "metadata": {},
   "source": [
    "Requirement 4"
   ]
  },
  {
   "cell_type": "code",
   "execution_count": 102,
   "metadata": {},
   "outputs": [
    {
     "name": "stdout",
     "output_type": "stream",
     "text": [
      "20\n",
      "[0, 2, 4, 6, 9, 11, 12, 13, 24, 34, 35, 48, 53, 56, 77, 88, 90, 91, 92, 93, 94, 95, 96]\n"
     ]
    }
   ],
   "source": [
    "## List\n",
    "list_1 = [0, 2, 4, 6, 9, 11, 13, 24, 35, 48, 56, 77, 88, 90, 91, 92, 93, 94, 95, 96]\n",
    "\n",
    "##Length of list\n",
    "print(len(list_1))\n",
    "\n",
    "##Appendages to List\n",
    "list_1.append(12)\n",
    "list_1.append(34)\n",
    "list_1.append(53)\n",
    "\n",
    "##List Concatenation\n",
    "list_1 + [47, 89, 37]\n",
    "\n",
    "##List sorting\n",
    "list_1.sort()\n",
    "\n",
    "##Output\n",
    "print(list_1)"
   ]
  },
  {
   "cell_type": "markdown",
   "metadata": {},
   "source": [
    "Requirement 5"
   ]
  },
  {
   "cell_type": "code",
   "execution_count": 103,
   "metadata": {
    "scrolled": true
   },
   "outputs": [
    {
     "name": "stdout",
     "output_type": "stream",
     "text": [
      "6\n",
      "77\n",
      "94\n",
      "90\n",
      "[0, 2, 4, 6]\n",
      "[91, 92, 93, 94, 95]\n",
      "[96, 95, 94, 93, 92, 91, 90, 88, 77, 56, 53, 48, 35, 34, 24, 13, 12, 11, 9, 6, 4, 2, 0]\n",
      "[0, 4, 9, 12, 24, 35, 53, 77, 90, 92, 94, 96]\n",
      "[0, 2, 4, 6, 9, 11, 12, 13, -77, 88, 90, 91, 92, 93, 94, 95, 96]\n"
     ]
    }
   ],
   "source": [
    "##Printing elements from the list\n",
    "print(list_1[3])\n",
    "print(list_1[14])\n",
    "print(list_1[-3])\n",
    "print(list_1[-7])\n",
    "\n",
    "##Printing slices of the List\n",
    "print(list_1[0:4])\n",
    "print(list_1[-6:-1])\n",
    "\n",
    "##Reversed list\n",
    "print(list_1[::-1])\n",
    "\n",
    "##Replacing elements\n",
    "list_1[13]= -99\n",
    "\n",
    "##Every other element printed\n",
    "print(list_1[::2])\n",
    "\n",
    "##Replacing many elements with -77\n",
    "list_1[8:15] = [-77]\n",
    "\n",
    "##Output\n",
    "print(list_1)"
   ]
  },
  {
   "cell_type": "markdown",
   "metadata": {},
   "source": [
    "Requirement 6"
   ]
  },
  {
   "cell_type": "code",
   "execution_count": 104,
   "metadata": {},
   "outputs": [
    {
     "name": "stdout",
     "output_type": "stream",
     "text": [
      "(1, 3, 5, 7, 9, 11, 13)\n"
     ]
    }
   ],
   "source": [
    "tuple_1 = (1, 3, 5, 7, 9, 11, 13)\n",
    "## tuple_1[2] = -33\n",
    "## tuple_1.append(-22)\n",
    "## These commands returned errors, as tuples can't be modified in this way.\n",
    "## I commented them out and printed the original tuple to show its immutable state.\n",
    "print(tuple_1)"
   ]
  },
  {
   "cell_type": "markdown",
   "metadata": {},
   "source": [
    "Requirement 7"
   ]
  },
  {
   "cell_type": "code",
   "execution_count": 105,
   "metadata": {},
   "outputs": [
    {
     "name": "stdout",
     "output_type": "stream",
     "text": [
      "{'left winger': 'Morris', 'right winger': 'Dempsey', 'left midfielder': 'McBride', 'right midfielder': 'Donovan', 'center midfielder': 'Howard', 'left back': 'Reyna', 'right back': 'Ramos', 'stopper': 'Bradley', 'sweeper': 'Pulsic', 'goalkeeper': 'Seaman'}\n"
     ]
    }
   ],
   "source": [
    "##Dictionary\n",
    "\n",
    "players_soccer = {'left winger':'Wynalda','right winger':'Dempsey','left midfielder':'McBride','right midfielder':'Donovan','center midfielder':'Howard','left back':'Reyna','right back':'Ramos','stopper':'Bradley','sweeper':'Pulsic'}\n",
    "\n",
    "##Replacing a Value\n",
    "players_soccer['left winger'] = 'Morris'\n",
    "\n",
    "##Adding a new key::value\n",
    "players_soccer['goalkeeper'] = 'Seaman'\n",
    "\n",
    "##Output\n",
    "print(players_soccer)"
   ]
  },
  {
   "cell_type": "markdown",
   "metadata": {},
   "source": [
    "Requirement 8"
   ]
  },
  {
   "cell_type": "code",
   "execution_count": 106,
   "metadata": {},
   "outputs": [
    {
     "name": "stdout",
     "output_type": "stream",
     "text": [
      "{'Tarly', 'Culainn', 'Dave', 'Reba', 'Tyler', 'Reb', 'Cheryl', 'Don', 'Mike', 'Miku', 'Rob', 'Doug', 'Ty', 'Culum', 'Darnell', 'Tom'}\n",
      "{'Tarly', 'Reba', 'Cheryl', 'Tom'}\n",
      "{'Mike', 'Ty', 'Rob', 'Doug', 'Dave', 'Culum'}\n",
      "{'Mike', 'Miku', 'Rob', 'Doug', 'Ty', 'Culainn', 'Culum', 'Tyler', 'Dave', 'Darnell', 'Don', 'Reb'}\n"
     ]
    }
   ],
   "source": [
    "##Sets\n",
    "hatfields = {'Doug', 'Mike', 'Rob', 'Tarly', 'Dave', 'Reba', 'Tom', 'Ty', 'Cheryl', 'Culum'}\n",
    "mccoys = {'Don', 'Miku', 'Reb', 'Tarly', 'Darnell', 'Reba', 'Tom', 'Tyler', 'Cheryl', 'Culainn'}\n",
    "\n",
    "##Union\n",
    "print(hatfields.union(mccoys))\n",
    "\n",
    "##Intersection\n",
    "print(hatfields.intersection(mccoys))\n",
    "\n",
    "##Difference\n",
    "print(hatfields.difference(mccoys))\n",
    "\n",
    "##Symmetric_difference\n",
    "print(hatfields.symmetric_difference(mccoys))\n"
   ]
  },
  {
   "cell_type": "markdown",
   "metadata": {},
   "source": [
    "Requirement 9"
   ]
  },
  {
   "cell_type": "code",
   "execution_count": 107,
   "metadata": {},
   "outputs": [
    {
     "name": "stdout",
     "output_type": "stream",
     "text": [
      "The weather is snowy\n"
     ]
    }
   ],
   "source": [
    "## Weather using if/elif/else\n",
    "W = 'Snow'\n",
    "\n",
    "##If\n",
    "if W == 'Cloudy':\n",
    "    print('The weather is cloudy')\n",
    "\n",
    "## Two elif statements    \n",
    "elif W =='Rain':\n",
    "    print('The weather is rainy')\n",
    "elif W =='Snow':\n",
    "    print('The weather is snowy')\n",
    "    \n",
    "##Else statement\n",
    "else: print('The weather is nice out!')"
   ]
  },
  {
   "cell_type": "markdown",
   "metadata": {},
   "source": [
    "Requirement 10"
   ]
  },
  {
   "cell_type": "code",
   "execution_count": 108,
   "metadata": {},
   "outputs": [
    {
     "name": "stdout",
     "output_type": "stream",
     "text": [
      "5 6 7 8 9 10 11 12 5 6 7 8 "
     ]
    }
   ],
   "source": [
    "##Print for loop in a range\n",
    "for i in range(5, 13):\n",
    "    print(i, end=' ')\n",
    "\n",
    "##Print for loop with a list\n",
    "for p in [5, 6, 7, 8]:\n",
    "    print(p, end=' ')"
   ]
  },
  {
   "cell_type": "markdown",
   "metadata": {},
   "source": [
    "Requirement 11"
   ]
  },
  {
   "cell_type": "code",
   "execution_count": 109,
   "metadata": {
    "scrolled": true
   },
   "outputs": [
    {
     "name": "stdout",
     "output_type": "stream",
     "text": [
      "0 1 2 3 4 5 6 7 1 2 3 4 5 6 7 "
     ]
    }
   ],
   "source": [
    "##While loop 0-7\n",
    "i = 0\n",
    "while i < 8:\n",
    "    print(i, end=' ')\n",
    "    i += 1\n",
    "\n",
    "##While Loop 1-7\n",
    "i = 1\n",
    "while i < 8:\n",
    "    print(i, end=' ')\n",
    "    i += 1"
   ]
  },
  {
   "cell_type": "markdown",
   "metadata": {},
   "source": [
    "Requirement 12"
   ]
  },
  {
   "cell_type": "code",
   "execution_count": 110,
   "metadata": {},
   "outputs": [
    {
     "data": {
      "text/plain": [
       "120"
      ]
     },
     "execution_count": 110,
     "metadata": {},
     "output_type": "execute_result"
    }
   ],
   "source": [
    "##Function Factorial\n",
    "def factorial(num):\n",
    "    for i in range(1,num):\n",
    "        num = num * i\n",
    "    return num\n",
    "\n",
    "##Factorial test\n",
    "factorial(5)"
   ]
  },
  {
   "cell_type": "markdown",
   "metadata": {},
   "source": [
    "Requirement 13"
   ]
  },
  {
   "cell_type": "code",
   "execution_count": 111,
   "metadata": {},
   "outputs": [
    {
     "name": "stdout",
     "output_type": "stream",
     "text": [
      "Numbers=  (5, 6, 22)\n",
      "Names=  {'a': 'Potato', 'b': 'Eggplant'}\n"
     ]
    }
   ],
   "source": [
    "##Function with *args and **kwargs\n",
    "def vegetables(*args, **kwargs):\n",
    "    print('Numbers= ', args)\n",
    "    print('Names= ', kwargs)\n",
    "\n",
    "##Vegetables test\n",
    "vegetables(5, 6, 22, a='Potato', b='Eggplant')"
   ]
  },
  {
   "cell_type": "markdown",
   "metadata": {},
   "source": [
    "Requirement 14"
   ]
  },
  {
   "cell_type": "code",
   "execution_count": 112,
   "metadata": {},
   "outputs": [
    {
     "name": "stdout",
     "output_type": "stream",
     "text": [
      "[{'Make': 'Honda', 'Model': 'Civic', 'Cost': '15500'}, {'Make': 'Subaru', 'Model': 'Outback', 'Cost': '22000'}, {'Make': 'Ford', 'Model': 'Ranger', 'Cost': '17000'}]\n",
      "[{'Make': 'Honda', 'Model': 'Civic', 'Cost': '15500'}, {'Make': 'Ford', 'Model': 'Ranger', 'Cost': '17000'}, {'Make': 'Subaru', 'Model': 'Outback', 'Cost': '22000'}]\n"
     ]
    }
   ],
   "source": [
    "##Cars list with dictionaries\n",
    "cars = [{'Make':'Ford', 'Model':'Ranger', 'Cost':'17000'},\n",
    "        {'Make':'Honda', 'Model':'Civic', 'Cost':'15500'},\n",
    "        {'Make':'Subaru', 'Model':'Outback', 'Cost':'22000'}]\n",
    "\n",
    "##Sorting the list by Model\n",
    "print(sorted(cars, key=lambda item: item['Model']))\n",
    "\n",
    "##Sorting the list by Cost\n",
    "print(sorted(cars, key=lambda item: item['Cost']))"
   ]
  },
  {
   "cell_type": "markdown",
   "metadata": {},
   "source": [
    "Requirement 15"
   ]
  },
  {
   "cell_type": "code",
   "execution_count": 113,
   "metadata": {},
   "outputs": [
    {
     "name": "stdout",
     "output_type": "stream",
     "text": [
      "Broken Calculator\n"
     ]
    }
   ],
   "source": [
    "## Try/Except catches\n",
    "try:\n",
    "    x = 25000/0\n",
    "    print(x)\n",
    "except:\n",
    "    print('Broken Calculator')\n"
   ]
  },
  {
   "cell_type": "markdown",
   "metadata": {},
   "source": [
    "Requirement 16"
   ]
  },
  {
   "cell_type": "code",
   "execution_count": 114,
   "metadata": {},
   "outputs": [
    {
     "name": "stdout",
     "output_type": "stream",
     "text": [
      "A fine Turnip!\n",
      "A white Veggie!\n",
      "An Irish Holiday!\n"
     ]
    }
   ],
   "source": [
    "##Variable\n",
    "X = 'Turnip'\n",
    "\n",
    "##Try Statement\n",
    "try:\n",
    "    if X == 'Turnip':\n",
    "        print('A fine Turnip!')\n",
    "\n",
    "##Except\n",
    "except:\n",
    "    if X == 'Potato':\n",
    "        print(\"That's no Turnip!\")\n",
    "    \n",
    "##Else\n",
    "else:\n",
    "    print('A white Veggie!')\n",
    "    \n",
    "##Finally\n",
    "finally:\n",
    "    print('An Irish Holiday!')"
   ]
  },
  {
   "cell_type": "markdown",
   "metadata": {},
   "source": [
    "Requirement 17"
   ]
  },
  {
   "cell_type": "markdown",
   "metadata": {},
   "source": [
    "Iterator indirection is essentially a way to treat something as a list without having to create the full list. This saves on memory, and allows larger calculations to proceed with minimal fuss. "
   ]
  },
  {
   "cell_type": "markdown",
   "metadata": {},
   "source": [
    "Requirement 18"
   ]
  },
  {
   "cell_type": "code",
   "execution_count": 115,
   "metadata": {},
   "outputs": [
    {
     "name": "stdout",
     "output_type": "stream",
     "text": [
      "0 tiger\n",
      "1 dog\n",
      "2 cat\n",
      "3 mouse\n",
      "4 gerbil\n",
      "5 chimp\n",
      "6 sparrow\n",
      "7 possum\n",
      "8 wolverine\n",
      "9 manatee\n"
     ]
    }
   ],
   "source": [
    "##Animals list\n",
    "animals_list = ['tiger', 'dog', 'cat', 'mouse', 'gerbil', 'chimp', 'sparrow', 'possum', 'wolverine', 'manatee']\n",
    "\n",
    "##Index and Values of animals\n",
    "for i in range(len(animals_list)):\n",
    "    print(i, animals_list[i])"
   ]
  },
  {
   "cell_type": "markdown",
   "metadata": {},
   "source": [
    "Requirement 19"
   ]
  },
  {
   "cell_type": "code",
   "execution_count": 116,
   "metadata": {},
   "outputs": [
    {
     "name": "stdout",
     "output_type": "stream",
     "text": [
      "0 tiger\n",
      "1 dog\n",
      "2 cat\n",
      "3 mouse\n",
      "4 gerbil\n",
      "5 chimp\n",
      "6 sparrow\n",
      "7 possum\n",
      "8 wolverine\n",
      "9 manatee\n"
     ]
    }
   ],
   "source": [
    "##Animals List\n",
    "animals_list = ['tiger', 'dog', 'cat', 'mouse', 'gerbil', 'chimp', 'sparrow', 'possum', 'wolverine', 'manatee']\n",
    "\n",
    "##Enumerated index and values\n",
    "for i, val in enumerate(animals_list):\n",
    "    print(i, animals_list[i])"
   ]
  },
  {
   "cell_type": "markdown",
   "metadata": {},
   "source": [
    "Requirement 20"
   ]
  },
  {
   "cell_type": "code",
   "execution_count": 117,
   "metadata": {},
   "outputs": [
    {
     "name": "stdout",
     "output_type": "stream",
     "text": [
      "tiger red\n",
      "dog blue\n",
      "cat white\n",
      "mouse orange\n",
      "gerbil yellow\n",
      "chimp green\n",
      "sparrow black\n",
      "possum purple\n",
      "wolverine violet\n",
      "manatee mauve\n"
     ]
    }
   ],
   "source": [
    "##Colors list\n",
    "colors_list = ['red', 'blue', 'white', 'orange', 'yellow', 'green', 'black', 'purple', 'violet', 'mauve']\n",
    "\n",
    "##Zip interator\n",
    "for lval, rval in zip(animals_list, colors_list):\n",
    "    print(lval, rval)"
   ]
  },
  {
   "cell_type": "markdown",
   "metadata": {},
   "source": [
    "Requirement 21"
   ]
  },
  {
   "cell_type": "code",
   "execution_count": 118,
   "metadata": {},
   "outputs": [
    {
     "name": "stdout",
     "output_type": "stream",
     "text": [
      "0 10 20 30 40 50 60 70 80 90 "
     ]
    }
   ],
   "source": [
    "##Lambda and map\n",
    "times_ten = lambda x: x * 10\n",
    "for val in map(times_ten, range(10)):\n",
    "    print(val, end=' ')"
   ]
  },
  {
   "cell_type": "markdown",
   "metadata": {},
   "source": [
    "Requirement 22"
   ]
  },
  {
   "cell_type": "code",
   "execution_count": 119,
   "metadata": {},
   "outputs": [
    {
     "name": "stdout",
     "output_type": "stream",
     "text": [
      "0 3 6 9 12 15 18 21 24 27 "
     ]
    }
   ],
   "source": [
    "##Lambda and filter\n",
    "by_three = lambda x: x % 3 == 0\n",
    "for val in filter(by_three, range(30)):\n",
    "    print(val, end=' ')"
   ]
  },
  {
   "cell_type": "markdown",
   "metadata": {},
   "source": [
    "Requirement 23"
   ]
  },
  {
   "cell_type": "markdown",
   "metadata": {},
   "source": [
    "I found this assignment a little easier than assignment 5, just from being more at ease with the formatting and Jupyter notebook. However, I still have moments in the assignment that worry me over how to interepet some of the questions, especially with the weight of the all-or-nothing grading scale. In particular, Requirement 11 gave me pause over whether I should iterate i < 7 to print 0-6, or i < 8 to print 0-7, and which way was more faithful to the question. "
   ]
  }
 ],
 "metadata": {
  "kernelspec": {
   "display_name": "Python 3",
   "language": "python",
   "name": "python3"
  },
  "language_info": {
   "codemirror_mode": {
    "name": "ipython",
    "version": 3
   },
   "file_extension": ".py",
   "mimetype": "text/x-python",
   "name": "python",
   "nbconvert_exporter": "python",
   "pygments_lexer": "ipython3",
   "version": "3.8.3"
  }
 },
 "nbformat": 4,
 "nbformat_minor": 4
}
